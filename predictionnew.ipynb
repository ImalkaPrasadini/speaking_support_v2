{
 "cells": [
  {
   "cell_type": "code",
   "execution_count": 1,
   "id": "07e8d533",
   "metadata": {},
   "outputs": [
    {
     "name": "stdout",
     "output_type": "stream",
     "text": [
      "Populating the interactive namespace from numpy and matplotlib\n"
     ]
    },
    {
     "name": "stderr",
     "output_type": "stream",
     "text": [
      "C:\\Users\\Acer\\.conda\\envs\\tensorflow\\lib\\site-packages\\IPython\\core\\magics\\pylab.py:159: UserWarning: pylab import has clobbered these variables: ['random']\n",
      "`%matplotlib` prevents importing * from pylab and numpy\n",
      "  warn(\"pylab import has clobbered these variables: %s\"  % clobbered +\n"
     ]
    }
   ],
   "source": [
    "import pandas as pd\n",
    "import numpy as np\n",
    "import librosa\n",
    "import librosa.display\n",
    "import glob\n",
    "import IPython.display as ipd\n",
    "import random\n",
    "%pylab inline\n",
    "\n",
    "import warnings\n",
    "warnings.filterwarnings('ignore')"
   ]
  },
  {
   "cell_type": "code",
   "execution_count": 2,
   "id": "2d318cec",
   "metadata": {},
   "outputs": [
    {
     "data": {
      "text/html": [
       "<div>\n",
       "<style scoped>\n",
       "    .dataframe tbody tr th:only-of-type {\n",
       "        vertical-align: middle;\n",
       "    }\n",
       "\n",
       "    .dataframe tbody tr th {\n",
       "        vertical-align: top;\n",
       "    }\n",
       "\n",
       "    .dataframe thead th {\n",
       "        text-align: right;\n",
       "    }\n",
       "</style>\n",
       "<table border=\"1\" class=\"dataframe\">\n",
       "  <thead>\n",
       "    <tr style=\"text-align: right;\">\n",
       "      <th></th>\n",
       "      <th>name_of_audio</th>\n",
       "      <th>pronunciation_score_percentage</th>\n",
       "      <th>pronunciation_percentage</th>\n",
       "      <th>fold</th>\n",
       "    </tr>\n",
       "  </thead>\n",
       "  <tbody>\n",
       "    <tr>\n",
       "      <th>0</th>\n",
       "      <td>E2_P1.wav</td>\n",
       "      <td>85.00</td>\n",
       "      <td>85</td>\n",
       "      <td>1</td>\n",
       "    </tr>\n",
       "    <tr>\n",
       "      <th>1</th>\n",
       "      <td>E3_P1.wav</td>\n",
       "      <td>95.07</td>\n",
       "      <td>95</td>\n",
       "      <td>1</td>\n",
       "    </tr>\n",
       "    <tr>\n",
       "      <th>2</th>\n",
       "      <td>E2_P10.wav</td>\n",
       "      <td>95.05</td>\n",
       "      <td>95</td>\n",
       "      <td>10</td>\n",
       "    </tr>\n",
       "    <tr>\n",
       "      <th>3</th>\n",
       "      <td>E2_P11.wav</td>\n",
       "      <td>95.06</td>\n",
       "      <td>95</td>\n",
       "      <td>11</td>\n",
       "    </tr>\n",
       "    <tr>\n",
       "      <th>4</th>\n",
       "      <td>E1_P12.wav</td>\n",
       "      <td>95.05</td>\n",
       "      <td>95</td>\n",
       "      <td>12</td>\n",
       "    </tr>\n",
       "  </tbody>\n",
       "</table>\n",
       "</div>"
      ],
      "text/plain": [
       "  name_of_audio  pronunciation_score_percentage  pronunciation_percentage  \\\n",
       "0     E2_P1.wav                           85.00                        85   \n",
       "1     E3_P1.wav                           95.07                        95   \n",
       "2    E2_P10.wav                           95.05                        95   \n",
       "3    E2_P11.wav                           95.06                        95   \n",
       "4    E1_P12.wav                           95.05                        95   \n",
       "\n",
       "   fold  \n",
       "0     1  \n",
       "1     1  \n",
       "2    10  \n",
       "3    11  \n",
       "4    12  "
      ]
     },
     "execution_count": 2,
     "metadata": {},
     "output_type": "execute_result"
    }
   ],
   "source": [
    "metadata=pd.read_csv('audio/metadata_new/final_metadata/combined_csv_new - Copy_v1.csv')\n",
    "df = pd.read_csv('audio/metadata_new/final_metadata/combined_csv_new - Copy_v1.csv')\n",
    "df.head()"
   ]
  },
  {
   "cell_type": "code",
   "execution_count": 3,
   "id": "a396750f",
   "metadata": {},
   "outputs": [],
   "source": [
    "# ipd.Audio('audio/rec/fold1/S1_P15_F.wav')\n",
    "data, sampling_rate = librosa.load('audio/rec - Copy/S1_P1_F.wav')"
   ]
  },
  {
   "cell_type": "code",
   "execution_count": 4,
   "id": "b49ab00f",
   "metadata": {},
   "outputs": [
    {
     "data": {
      "text/plain": [
       "array([ 0.        ,  0.        ,  0.        , ..., -0.00143572,\n",
       "       -0.00139209, -0.00141668], dtype=float32)"
      ]
     },
     "execution_count": 4,
     "metadata": {},
     "output_type": "execute_result"
    }
   ],
   "source": [
    "data"
   ]
  },
  {
   "cell_type": "code",
   "execution_count": 5,
   "id": "3b0ee367",
   "metadata": {},
   "outputs": [
    {
     "data": {
      "text/plain": [
       "22050"
      ]
     },
     "execution_count": 5,
     "metadata": {},
     "output_type": "execute_result"
    }
   ],
   "source": [
    "sampling_rate"
   ]
  },
  {
   "cell_type": "code",
   "execution_count": 6,
   "id": "6fa539fe",
   "metadata": {},
   "outputs": [
    {
     "data": {
      "text/plain": [
       "<matplotlib.collections.PolyCollection at 0x2749b0ead00>"
      ]
     },
     "execution_count": 6,
     "metadata": {},
     "output_type": "execute_result"
    },
    {
     "data": {
      "image/png": "[encoded data removed]",
      "text/plain": [
       "<Figure size 864x288 with 1 Axes>"
      ]
     },
     "metadata": {
      "needs_background": "light"
     },
     "output_type": "display_data"
    }
   ],
   "source": [
    "plt.figure(figsize=(12,4))\n",
    "librosa.display.waveplot(data, sr=sampling_rate)"
   ]
  },
  {
   "cell_type": "code",
   "execution_count": 7,
   "id": "3356797a",
   "metadata": {},
   "outputs": [
    {
     "name": "stdout",
     "output_type": "stream",
     "text": [
      "Pronunciation_percentage: 90\n"
     ]
    },
    {
     "data": {
      "text/plain": [
       "<matplotlib.collections.PolyCollection at 0x2749c5a22b0>"
      ]
     },
     "execution_count": 7,
     "metadata": {},
     "output_type": "execute_result"
    },
    {
     "data": {
      "image/png": "[encoded data removed]",
      "text/plain": [
       "<Figure size 864x288 with 1 Axes>"
      ]
     },
     "metadata": {
      "needs_background": "light"
     },
     "output_type": "display_data"
    }
   ],
   "source": [
    "index = random.choice(df.index)\n",
    "\n",
    "print('Pronunciation_percentage:', df['pronunciation_percentage'][index])\n",
    "data, sampling_rate = librosa.load('audio/rec - Copy/'+str(df['name_of_audio'][index]))\n",
    "\n",
    "plt.figure(figsize=(12,4))\n",
    "librosa.display.waveplot(data, sr=sampling_rate)"
   ]
  },
  {
   "cell_type": "code",
   "execution_count": 8,
   "id": "454d5d2a",
   "metadata": {},
   "outputs": [
    {
     "data": {
      "text/plain": [
       "<AxesSubplot:xlabel='pronunciation_percentage', ylabel='count'>"
      ]
     },
     "execution_count": 8,
     "metadata": {},
     "output_type": "execute_result"
    },
    {
     "data": {
      "image/png": "[encoded data removed]",
      "text/plain": [
       "<Figure size 864x504 with 1 Axes>"
      ]
     },
     "metadata": {
      "needs_background": "light"
     },
     "output_type": "display_data"
    }
   ],
   "source": [
    "import seaborn as sns\n",
    "plt.figure(figsize=(12,7))\n",
    "sns.countplot(df['pronunciation_percentage'])"
   ]
  },
  {
   "cell_type": "code",
   "execution_count": 9,
   "id": "82423cd9",
   "metadata": {},
   "outputs": [],
   "source": [
    "# Input split\n",
    "\n",
    "import os\n",
    "\n",
    "def parser(row):\n",
    "  # path of the file\n",
    "  file_name = os.path.join('audio/rec - Copy/', str(row.name_of_audio))\n",
    "  # load the audio file\n",
    "  x, sample_rate = librosa.load(file_name, res_type='kaiser_fast')\n",
    "  # extract features from the data\n",
    "  mfccs = np.mean(librosa.feature.mfcc(y=x, sr=sample_rate, n_mfcc=40).T, axis=0)\n",
    "\n",
    "  feature = mfccs\n",
    "  label = row.pronunciation_percentage\n",
    "\n",
    "  return [feature, label]"
   ]
  },
  {
   "cell_type": "code",
   "execution_count": 10,
   "id": "f4813a3b",
   "metadata": {},
   "outputs": [
    {
     "ename": "AttributeError",
     "evalue": "'numpy.ndarray' object has no attribute 'columns'",
     "output_type": "error",
     "traceback": [
      "\u001b[1;31m---------------------------------------------------------------------------\u001b[0m",
      "\u001b[1;31mAttributeError\u001b[0m                            Traceback (most recent call last)",
      "\u001b[1;32m<ipython-input-10-4b2aba29847c>\u001b[0m in \u001b[0;36m<module>\u001b[1;34m\u001b[0m\n\u001b[0;32m      1\u001b[0m \u001b[0mdf\u001b[0m\u001b[1;33m.\u001b[0m\u001b[0mapply\u001b[0m\u001b[1;33m(\u001b[0m\u001b[0mparser\u001b[0m\u001b[1;33m,\u001b[0m \u001b[0maxis\u001b[0m\u001b[1;33m=\u001b[0m\u001b[1;36m1\u001b[0m\u001b[1;33m)\u001b[0m\u001b[1;33m\u001b[0m\u001b[1;33m\u001b[0m\u001b[0m\n\u001b[1;32m----> 2\u001b[1;33m \u001b[0mdata\u001b[0m\u001b[1;33m.\u001b[0m\u001b[0mcolumns\u001b[0m \u001b[1;33m=\u001b[0m \u001b[1;33m[\u001b[0m\u001b[1;34m'feature'\u001b[0m\u001b[1;33m,\u001b[0m\u001b[1;34m'label'\u001b[0m\u001b[1;33m]\u001b[0m\u001b[1;33m\u001b[0m\u001b[1;33m\u001b[0m\u001b[0m\n\u001b[0m\u001b[0;32m      3\u001b[0m \u001b[1;31m# extracted_features_df.head()\u001b[0m\u001b[1;33m\u001b[0m\u001b[1;33m\u001b[0m\u001b[1;33m\u001b[0m\u001b[0m\n",
      "\u001b[1;31mAttributeError\u001b[0m: 'numpy.ndarray' object has no attribute 'columns'"
     ]
    }
   ],
   "source": [
    "df.apply(parser, axis=1)\n",
    "data.columns = ['feature','label']\n",
    "# extracted_features_df.head()"
   ]
  },
  {
   "cell_type": "code",
   "execution_count": 11,
   "id": "7fed91ee",
   "metadata": {},
   "outputs": [],
   "source": [
    "def features_extractor(file):\n",
    "    audio, sample_rate = librosa.load(file_name, res_type='kaiser_fast') \n",
    "    mfccs_features = librosa.feature.mfcc(y=audio, sr=sample_rate, n_mfcc=40)\n",
    "    mfccs_scaled_features = np.mean(mfccs_features.T,axis=0)\n",
    "    \n",
    "    return mfccs_scaled_features"
   ]
  },
  {
   "cell_type": "code",
   "execution_count": 12,
   "id": "645bdf75",
   "metadata": {},
   "outputs": [
    {
     "name": "stderr",
     "output_type": "stream",
     "text": [
      "508it [05:45,  1.47it/s]\n"
     ]
    }
   ],
   "source": [
    "import numpy as np\n",
    "from tqdm import tqdm\n",
    "### Now we iterate through every audio file and extract features \n",
    "### using Mel-Frequency Cepstral Coefficients\n",
    "extracted_features=[]\n",
    "for index_num,row in tqdm(metadata.iterrows()):\n",
    "    file_name = os.path.join('audio/rec - Copy/', str(row.name_of_audio))\n",
    "    final_class_labels=row[\"pronunciation_percentage\"]\n",
    "    data=features_extractor(file_name)\n",
    "    extracted_features.append([data,final_class_labels])"
   ]
  },
  {
   "cell_type": "code",
   "execution_count": 13,
   "id": "e6d229bd",
   "metadata": {},
   "outputs": [
    {
     "data": {
      "text/html": [
       "<div>\n",
       "<style scoped>\n",
       "    .dataframe tbody tr th:only-of-type {\n",
       "        vertical-align: middle;\n",
       "    }\n",
       "\n",
       "    .dataframe tbody tr th {\n",
       "        vertical-align: top;\n",
       "    }\n",
       "\n",
       "    .dataframe thead th {\n",
       "        text-align: right;\n",
       "    }\n",
       "</style>\n",
       "<table border=\"1\" class=\"dataframe\">\n",
       "  <thead>\n",
       "    <tr style=\"text-align: right;\">\n",
       "      <th></th>\n",
       "      <th>feature</th>\n",
       "      <th>class</th>\n",
       "    </tr>\n",
       "  </thead>\n",
       "  <tbody>\n",
       "    <tr>\n",
       "      <th>0</th>\n",
       "      <td>[-364.22656, 133.04326, -24.707306, 8.948652, ...</td>\n",
       "      <td>85</td>\n",
       "    </tr>\n",
       "    <tr>\n",
       "      <th>1</th>\n",
       "      <td>[-379.86017, 119.4718, -3.163177, 25.166592, -...</td>\n",
       "      <td>95</td>\n",
       "    </tr>\n",
       "    <tr>\n",
       "      <th>2</th>\n",
       "      <td>[-353.5439, 145.00945, -31.72263, 8.87748, 17....</td>\n",
       "      <td>95</td>\n",
       "    </tr>\n",
       "    <tr>\n",
       "      <th>3</th>\n",
       "      <td>[-352.76407, 136.59334, -31.263487, 8.083315, ...</td>\n",
       "      <td>95</td>\n",
       "    </tr>\n",
       "    <tr>\n",
       "      <th>4</th>\n",
       "      <td>[-427.30124, 129.09596, -3.9694078, 8.760965, ...</td>\n",
       "      <td>95</td>\n",
       "    </tr>\n",
       "  </tbody>\n",
       "</table>\n",
       "</div>"
      ],
      "text/plain": [
       "                                             feature  class\n",
       "0  [-364.22656, 133.04326, -24.707306, 8.948652, ...     85\n",
       "1  [-379.86017, 119.4718, -3.163177, 25.166592, -...     95\n",
       "2  [-353.5439, 145.00945, -31.72263, 8.87748, 17....     95\n",
       "3  [-352.76407, 136.59334, -31.263487, 8.083315, ...     95\n",
       "4  [-427.30124, 129.09596, -3.9694078, 8.760965, ...     95"
      ]
     },
     "execution_count": 13,
     "metadata": {},
     "output_type": "execute_result"
    }
   ],
   "source": [
    "### converting extracted_features to Pandas dataframe\n",
    "extracted_features_df=pd.DataFrame(extracted_features,columns=['feature','class'])\n",
    "extracted_features_df.head()"
   ]
  },
  {
   "cell_type": "code",
   "execution_count": 14,
   "id": "5852e3dc",
   "metadata": {},
   "outputs": [],
   "source": [
    "### Split the dataset into independent and dependent dataset\n",
    "X=np.array(extracted_features_df['feature'].tolist())\n",
    "y=np.array(extracted_features_df['class'].tolist())"
   ]
  },
  {
   "cell_type": "code",
   "execution_count": 15,
   "id": "1f4df7a5",
   "metadata": {},
   "outputs": [
    {
     "data": {
      "text/plain": [
       "(508, 40)"
      ]
     },
     "execution_count": 15,
     "metadata": {},
     "output_type": "execute_result"
    }
   ],
   "source": [
    "X.shape"
   ]
  },
  {
   "cell_type": "code",
   "execution_count": 16,
   "id": "559194d2",
   "metadata": {},
   "outputs": [
    {
     "data": {
      "text/plain": [
       "array([ 85,  95,  95,  95,  95,  90,  85,  95,  95,  95,  95,  95,  95,\n",
       "        95,  85,  95,  95, 100,  95,  90, 100,  70,  95,  70,  85,  70,\n",
       "        80,  70,  90,  90, 100,  95,  85,  70,  80,  95,  70,  95,  70,\n",
       "        85,  85,  85,  90,  85,  80,  85,  90,  85,  70,  70, 100,  95,\n",
       "        70,  95,  85, 100,  95,  80,  90,  85,  90, 100,  95,  85, 100,\n",
       "        70,  95,  95, 100,  70,  90,  70,  85,  85,  85,  80,  95,  85,\n",
       "        85,  85,  85,  95,  95,  70,  95,  95, 100,  85,  85,  85,  90,\n",
       "        95,  95,  85, 100,  80,  95,  90,  90,  80,  85,  70,  70,  85,\n",
       "        85,  70,  90,  85,  85,  85,  70,  95, 100,  80,  95,  85, 100,\n",
       "        95,  80,  70,  90, 100,  95,  85, 100,  95,  85,  90,  80,  95,\n",
       "        70,  80,  85,  70,  80, 100,  70,  90,  90,  90,  90,  95,  70,\n",
       "        95,  85,  95,  95,  85,  85,  85, 100,  90,  95,  85,  90,  90,\n",
       "        95,  70, 100,  80,  85,   0,  80,  85,  85,  85, 100,  85,  85,\n",
       "        95,  85, 100,  95,  70,  95,  70, 100,  90, 100,  90,  85, 100,\n",
       "        95,  95,  85, 100,  70,  95,  85, 100,  80,  90,  70,  80,  85,\n",
       "        70,  85, 100,  90,  90,  85,  90,  80,  90,  70,  95,  70,  85,\n",
       "        95,  70,  70,  70,  85,  90,  85,  70,  95,  80,  95,  85,  90,\n",
       "        70,  80,   0,  80,  70,  70,  70,  85,  80,  70,  80,  80,  95,\n",
       "       100,  70,  95,  85,  95,  90,  85,  85,  85,  85, 100,  95,  85,\n",
       "       100,  70,  95,  90,  95,  80,  90,   0,  80,  85,  70,  90,  80,\n",
       "        85,  85,  80,  90, 100,  70, 100,  85, 100, 100,  80,  85,  90,\n",
       "        90, 100,  95,  90,  70,  80,  85,  90, 100,  80,  90,  70,  70,\n",
       "       100,  85,  80,  90,  90,  95,  85,  90,  95, 100,  70,  95,  85,\n",
       "        95,  85,  80,  85,  90, 100,  95,  85,  70,  80,  95,  85, 100,\n",
       "        80, 100,  70,  70,  85,  85,  85,  90,  90,  95,  85,  85, 100,\n",
       "       100,   0,  95,  85,  90,  85,  80,  85,  85,  95,  95,  95,  95,\n",
       "        80,  80,  95,  85, 100,  90,  95,  85,  80, 100,  85,  85,  85,\n",
       "        85,  95,  85,  85,  95, 100,  70,  95,  80,  90,  90,  85,  85,\n",
       "        90,  95,  95,  85,  80,  80,  95,  90,  85,  90,  85,  70,  80,\n",
       "        90,  85,  80,  90,  70, 100,  90,  70, 100,  95,   0,  95,  70,\n",
       "        90,  95,  80,  70,  90,  90,  90,  95,  85,  70,  70,  95,  85,\n",
       "        90,  90,  95,  85,  80,  85,  70,  90,  90,  70,  95,  85,  85,\n",
       "       100,  90,  70,  95,  85,  85,  85,  70,  95,  90,  90,  95,  85,\n",
       "        80,  80,  95,  90,  85,  80,  85,  90,  70, 100,  85,  90,  90,\n",
       "        85,  85,  85,  85,  95, 100,  70,  95,  70,  85,  85,  90,  70,\n",
       "        90,  90,  95,  85,  85,  80,  90,  95,  85,  85,  80,  90,  80,\n",
       "        80,  90,  70,  70,  95,  70,  85,  85,  85,  90,  85,  70,  85,\n",
       "        85,  90,  95,  80,  85,  70,  85,  95,  85,  85,  70,  80,  85,\n",
       "        90,  85,  70,  85,  90,  70,  85,  85,  80,  95,  70,  85,  85,\n",
       "        85])"
      ]
     },
     "execution_count": 16,
     "metadata": {},
     "output_type": "execute_result"
    }
   ],
   "source": [
    "y"
   ]
  },
  {
   "cell_type": "code",
   "execution_count": 17,
   "id": "09538b10",
   "metadata": {},
   "outputs": [],
   "source": [
    "### Label Encoding\n",
    "###y=np.array(pd.get_dummies(y))\n",
    "### Label Encoder\n",
    "from tensorflow.keras.utils import to_categorical\n",
    "from sklearn.preprocessing import LabelEncoder\n",
    "labelencoder=LabelEncoder()\n",
    "y=to_categorical(labelencoder.fit_transform(y))"
   ]
  },
  {
   "cell_type": "code",
   "execution_count": 18,
   "id": "72f53a77",
   "metadata": {},
   "outputs": [],
   "source": [
    "### Train Test Split\n",
    "from sklearn.model_selection import train_test_split\n",
    "X_train,X_test,y_train,y_test=train_test_split(X,y,test_size=0.2,random_state=0)"
   ]
  },
  {
   "cell_type": "code",
   "execution_count": 19,
   "id": "e8c2fd32",
   "metadata": {},
   "outputs": [
    {
     "data": {
      "text/plain": [
       "array([[-384.79132  ,  126.83416  ,   22.044748 , ...,    3.6588137,\n",
       "           4.157282 ,    4.989248 ],\n",
       "       [-332.5388   ,   92.562675 ,   -3.9492354, ...,    5.115012 ,\n",
       "           4.4112234,    2.8012795],\n",
       "       [-315.8667   ,  120.47542  ,   20.410995 , ...,   -2.1051085,\n",
       "          -1.2823454,   -1.5356203],\n",
       "       ...,\n",
       "       [-392.28574  ,   88.3984   ,   -4.571233 , ...,   -1.4070433,\n",
       "          -2.783642 ,   -1.0058346],\n",
       "       [-393.10715  ,  157.4563   ,  -13.183333 , ...,    4.2225337,\n",
       "           3.0959253,    2.988069 ],\n",
       "       [-339.63928  ,  100.59851  ,   -1.3436158, ...,   -1.5343856,\n",
       "          -0.6541061,   -2.4956307]], dtype=float32)"
      ]
     },
     "execution_count": 19,
     "metadata": {},
     "output_type": "execute_result"
    }
   ],
   "source": [
    "X_train"
   ]
  },
  {
   "cell_type": "code",
   "execution_count": 20,
   "id": "5d276b29",
   "metadata": {},
   "outputs": [
    {
     "data": {
      "text/plain": [
       "array([[0., 0., 0., ..., 0., 0., 0.],\n",
       "       [0., 0., 0., ..., 0., 1., 0.],\n",
       "       [0., 0., 0., ..., 0., 1., 0.],\n",
       "       ...,\n",
       "       [0., 0., 0., ..., 0., 0., 0.],\n",
       "       [0., 0., 0., ..., 0., 0., 0.],\n",
       "       [0., 0., 0., ..., 0., 0., 0.]], dtype=float32)"
      ]
     },
     "execution_count": 20,
     "metadata": {},
     "output_type": "execute_result"
    }
   ],
   "source": [
    "y"
   ]
  },
  {
   "cell_type": "code",
   "execution_count": 21,
   "id": "e32424ff",
   "metadata": {},
   "outputs": [
    {
     "data": {
      "text/plain": [
       "(406, 40)"
      ]
     },
     "execution_count": 21,
     "metadata": {},
     "output_type": "execute_result"
    }
   ],
   "source": [
    "X_train.shape"
   ]
  },
  {
   "cell_type": "code",
   "execution_count": 22,
   "id": "620b6f97",
   "metadata": {},
   "outputs": [
    {
     "data": {
      "text/plain": [
       "(102, 40)"
      ]
     },
     "execution_count": 22,
     "metadata": {},
     "output_type": "execute_result"
    }
   ],
   "source": [
    "X_test.shape"
   ]
  },
  {
   "cell_type": "code",
   "execution_count": 23,
   "id": "98820037",
   "metadata": {},
   "outputs": [
    {
     "data": {
      "text/plain": [
       "(406, 7)"
      ]
     },
     "execution_count": 23,
     "metadata": {},
     "output_type": "execute_result"
    }
   ],
   "source": [
    "y_train.shape"
   ]
  },
  {
   "cell_type": "code",
   "execution_count": 24,
   "id": "2adbe56b",
   "metadata": {},
   "outputs": [
    {
     "data": {
      "text/plain": [
       "(102, 7)"
      ]
     },
     "execution_count": 24,
     "metadata": {},
     "output_type": "execute_result"
    }
   ],
   "source": [
    "y_test.shape"
   ]
  },
  {
   "cell_type": "code",
   "execution_count": 25,
   "id": "c9f82f8a",
   "metadata": {},
   "outputs": [],
   "source": [
    "###### -------- Model Creation -------- ######"
   ]
  },
  {
   "cell_type": "code",
   "execution_count": 26,
   "id": "68729da0",
   "metadata": {},
   "outputs": [
    {
     "name": "stdout",
     "output_type": "stream",
     "text": [
      "2.3.0\n"
     ]
    }
   ],
   "source": [
    "import tensorflow as tf\n",
    "print(tf.__version__)"
   ]
  },
  {
   "cell_type": "code",
   "execution_count": 27,
   "id": "726352d8",
   "metadata": {},
   "outputs": [],
   "source": [
    "from tensorflow.keras.models import Sequential\n",
    "from tensorflow.keras.layers import Dense,Dropout,Activation,Flatten\n",
    "from tensorflow.keras.optimizers import Adam\n",
    "from sklearn import metrics"
   ]
  },
  {
   "cell_type": "code",
   "execution_count": 28,
   "id": "0741aeaa",
   "metadata": {},
   "outputs": [],
   "source": [
    "### No of classes\n",
    "num_labels=y.shape[1]"
   ]
  },
  {
   "cell_type": "code",
   "execution_count": 29,
   "id": "d9ae136e",
   "metadata": {},
   "outputs": [],
   "source": [
    "model=Sequential()\n",
    "###first layer\n",
    "model.add(Dense(100,input_shape=(40,)))\n",
    "model.add(Activation('relu'))\n",
    "model.add(Dropout(0.5))\n",
    "###second layer\n",
    "model.add(Dense(200))\n",
    "model.add(Activation('relu'))\n",
    "model.add(Dropout(0.5))\n",
    "###third layer\n",
    "model.add(Dense(100))\n",
    "model.add(Activation('relu'))\n",
    "model.add(Dropout(0.5))\n",
    "\n",
    "###final layer\n",
    "model.add(Dense(num_labels))\n",
    "model.add(Activation('softmax'))"
   ]
  },
  {
   "cell_type": "code",
   "execution_count": 30,
   "id": "f8abb496",
   "metadata": {},
   "outputs": [
    {
     "name": "stdout",
     "output_type": "stream",
     "text": [
      "Model: \"sequential\"\n",
      "_________________________________________________________________\n",
      "Layer (type)                 Output Shape              Param #   \n",
      "=================================================================\n",
      "dense (Dense)                (None, 100)               4100      \n",
      "_________________________________________________________________\n",
      "activation (Activation)      (None, 100)               0         \n",
      "_________________________________________________________________\n",
      "dropout (Dropout)            (None, 100)               0         \n",
      "_________________________________________________________________\n",
      "dense_1 (Dense)              (None, 200)               20200     \n",
      "_________________________________________________________________\n",
      "activation_1 (Activation)    (None, 200)               0         \n",
      "_________________________________________________________________\n",
      "dropout_1 (Dropout)          (None, 200)               0         \n",
      "_________________________________________________________________\n",
      "dense_2 (Dense)              (None, 100)               20100     \n",
      "_________________________________________________________________\n",
      "activation_2 (Activation)    (None, 100)               0         \n",
      "_________________________________________________________________\n",
      "dropout_2 (Dropout)          (None, 100)               0         \n",
      "_________________________________________________________________\n",
      "dense_3 (Dense)              (None, 7)                 707       \n",
      "_________________________________________________________________\n",
      "activation_3 (Activation)    (None, 7)                 0         \n",
      "=================================================================\n",
      "Total params: 45,107\n",
      "Trainable params: 45,107\n",
      "Non-trainable params: 0\n",
      "_________________________________________________________________\n"
     ]
    }
   ],
   "source": [
    "model.summary()"
   ]
  },
  {
   "cell_type": "code",
   "execution_count": 31,
   "id": "ec690436",
   "metadata": {},
   "outputs": [],
   "source": [
    "model.compile(loss='categorical_crossentropy',metrics=['accuracy'],optimizer='adam')"
   ]
  },
  {
   "cell_type": "code",
   "execution_count": 32,
   "id": "0afe00cb",
   "metadata": {},
   "outputs": [
    {
     "name": "stdout",
     "output_type": "stream",
     "text": [
      "Epoch 1/200\n",
      "12/13 [==========================>...] - ETA: 0s - loss: 67.8951 - accuracy: 0.1667\n",
      "Epoch 00001: val_loss improved from inf to 18.39289, saving model to saved_models\\audio_classification.hdf5\n",
      "13/13 [==============================] - 1s 51ms/step - loss: 66.6813 - accuracy: 0.1724 - val_loss: 18.3929 - val_accuracy: 0.2941\n",
      "Epoch 2/200\n",
      " 1/13 [=>............................] - ETA: 0s - loss: 46.2797 - accuracy: 0.2500\n",
      "Epoch 00002: val_loss improved from 18.39289 to 6.43008, saving model to saved_models\\audio_classification.hdf5\n",
      "13/13 [==============================] - 0s 3ms/step - loss: 44.2443 - accuracy: 0.1724 - val_loss: 6.4301 - val_accuracy: 0.0490\n",
      "Epoch 3/200\n",
      " 1/13 [=>............................] - ETA: 0s - loss: 31.0882 - accuracy: 0.1875\n",
      "Epoch 00003: val_loss improved from 6.43008 to 2.88641, saving model to saved_models\\audio_classification.hdf5\n",
      "13/13 [==============================] - 0s 3ms/step - loss: 28.1105 - accuracy: 0.1773 - val_loss: 2.8864 - val_accuracy: 0.0588\n",
      "Epoch 4/200\n",
      " 1/13 [=>............................] - ETA: 0s - loss: 19.8573 - accuracy: 0.2500\n",
      "Epoch 00004: val_loss improved from 2.88641 to 2.05001, saving model to saved_models\\audio_classification.hdf5\n",
      "13/13 [==============================] - 0s 3ms/step - loss: 19.5135 - accuracy: 0.1798 - val_loss: 2.0500 - val_accuracy: 0.2745\n",
      "Epoch 5/200\n",
      " 1/13 [=>............................] - ETA: 0s - loss: 20.8556 - accuracy: 0.1875\n",
      "Epoch 00005: val_loss improved from 2.05001 to 1.93701, saving model to saved_models\\audio_classification.hdf5\n",
      "13/13 [==============================] - 0s 5ms/step - loss: 14.8831 - accuracy: 0.1700 - val_loss: 1.9370 - val_accuracy: 0.2745\n",
      "Epoch 6/200\n",
      " 1/13 [=>............................] - ETA: 0s - loss: 14.9609 - accuracy: 0.1562\n",
      "Epoch 00006: val_loss improved from 1.93701 to 1.75510, saving model to saved_models\\audio_classification.hdf5\n",
      "13/13 [==============================] - 0s 3ms/step - loss: 13.0103 - accuracy: 0.1502 - val_loss: 1.7551 - val_accuracy: 0.2647\n",
      "Epoch 7/200\n",
      " 1/13 [=>............................] - ETA: 0s - loss: 12.9107 - accuracy: 0.0312\n",
      "Epoch 00007: val_loss did not improve from 1.75510\n",
      "13/13 [==============================] - 0s 3ms/step - loss: 10.2251 - accuracy: 0.1970 - val_loss: 1.8076 - val_accuracy: 0.1667\n",
      "Epoch 8/200\n",
      " 1/13 [=>............................] - ETA: 0s - loss: 10.7871 - accuracy: 0.0938\n",
      "Epoch 00008: val_loss did not improve from 1.75510\n",
      "13/13 [==============================] - 0s 3ms/step - loss: 8.6559 - accuracy: 0.1847 - val_loss: 1.8328 - val_accuracy: 0.2255\n",
      "Epoch 9/200\n",
      " 1/13 [=>............................] - ETA: 0s - loss: 6.8113 - accuracy: 0.1250\n",
      "Epoch 00009: val_loss did not improve from 1.75510\n",
      "13/13 [==============================] - 0s 5ms/step - loss: 7.1260 - accuracy: 0.1650 - val_loss: 1.8404 - val_accuracy: 0.2157\n",
      "Epoch 10/200\n",
      " 1/13 [=>............................] - ETA: 0s - loss: 8.0468 - accuracy: 0.1562\n",
      "Epoch 00010: val_loss did not improve from 1.75510\n",
      "13/13 [==============================] - 0s 3ms/step - loss: 5.7879 - accuracy: 0.1872 - val_loss: 1.8663 - val_accuracy: 0.2843\n",
      "Epoch 11/200\n",
      " 4/13 [========>.....................] - ETA: 0s - loss: 5.4723 - accuracy: 0.1875\n",
      "Epoch 00011: val_loss did not improve from 1.75510\n",
      "13/13 [==============================] - 0s 10ms/step - loss: 5.3164 - accuracy: 0.1897 - val_loss: 1.8686 - val_accuracy: 0.2843\n",
      "Epoch 12/200\n",
      " 1/13 [=>............................] - ETA: 0s - loss: 6.2641 - accuracy: 0.1562\n",
      "Epoch 00012: val_loss did not improve from 1.75510\n",
      "13/13 [==============================] - 0s 4ms/step - loss: 5.1167 - accuracy: 0.1552 - val_loss: 1.8922 - val_accuracy: 0.2843\n",
      "Epoch 13/200\n",
      " 1/13 [=>............................] - ETA: 0s - loss: 3.9176 - accuracy: 0.1875\n",
      "Epoch 00013: val_loss did not improve from 1.75510\n",
      "13/13 [==============================] - 0s 3ms/step - loss: 4.2336 - accuracy: 0.1675 - val_loss: 1.9095 - val_accuracy: 0.2941\n",
      "Epoch 14/200\n",
      " 1/13 [=>............................] - ETA: 0s - loss: 4.0134 - accuracy: 0.1562\n",
      "Epoch 00014: val_loss did not improve from 1.75510\n",
      "13/13 [==============================] - 0s 3ms/step - loss: 3.5899 - accuracy: 0.1995 - val_loss: 1.9210 - val_accuracy: 0.2941\n",
      "Epoch 15/200\n",
      " 1/13 [=>............................] - ETA: 0s - loss: 3.7804 - accuracy: 0.1875\n",
      "Epoch 00015: val_loss did not improve from 1.75510\n",
      "13/13 [==============================] - 0s 3ms/step - loss: 3.1308 - accuracy: 0.1921 - val_loss: 1.9214 - val_accuracy: 0.2941\n",
      "Epoch 16/200\n",
      " 1/13 [=>............................] - ETA: 0s - loss: 4.8066 - accuracy: 0.1250\n",
      "Epoch 00016: val_loss did not improve from 1.75510\n",
      "13/13 [==============================] - 0s 3ms/step - loss: 3.4196 - accuracy: 0.1921 - val_loss: 1.9182 - val_accuracy: 0.2941\n",
      "Epoch 17/200\n",
      " 1/13 [=>............................] - ETA: 0s - loss: 3.2219 - accuracy: 0.0938\n",
      "Epoch 00017: val_loss did not improve from 1.75510\n",
      "13/13 [==============================] - 0s 3ms/step - loss: 2.8737 - accuracy: 0.1872 - val_loss: 1.9144 - val_accuracy: 0.2941\n",
      "Epoch 18/200\n",
      " 1/13 [=>............................] - ETA: 0s - loss: 2.5721 - accuracy: 0.2500\n",
      "Epoch 00018: val_loss did not improve from 1.75510\n",
      "13/13 [==============================] - 0s 3ms/step - loss: 2.7316 - accuracy: 0.2143 - val_loss: 1.9109 - val_accuracy: 0.2941\n",
      "Epoch 19/200\n",
      " 1/13 [=>............................] - ETA: 0s - loss: 3.2289 - accuracy: 0.0938\n",
      "Epoch 00019: val_loss did not improve from 1.75510\n",
      "13/13 [==============================] - 0s 3ms/step - loss: 2.6241 - accuracy: 0.1995 - val_loss: 1.9078 - val_accuracy: 0.2941\n",
      "Epoch 20/200\n",
      " 1/13 [=>............................] - ETA: 0s - loss: 2.8831 - accuracy: 0.1562\n",
      "Epoch 00020: val_loss did not improve from 1.75510\n",
      "13/13 [==============================] - 0s 3ms/step - loss: 2.5458 - accuracy: 0.2020 - val_loss: 1.9049 - val_accuracy: 0.2941\n",
      "Epoch 21/200\n",
      " 1/13 [=>............................] - ETA: 0s - loss: 2.6834 - accuracy: 0.1250\n",
      "Epoch 00021: val_loss did not improve from 1.75510\n",
      "13/13 [==============================] - 0s 3ms/step - loss: 2.4470 - accuracy: 0.2488 - val_loss: 1.9017 - val_accuracy: 0.2941\n",
      "Epoch 22/200\n",
      " 1/13 [=>............................] - ETA: 0s - loss: 2.3115 - accuracy: 0.2188\n",
      "Epoch 00022: val_loss did not improve from 1.75510\n",
      "13/13 [==============================] - 0s 3ms/step - loss: 2.3931 - accuracy: 0.2266 - val_loss: 1.8984 - val_accuracy: 0.2941\n",
      "Epoch 23/200\n",
      " 1/13 [=>............................] - ETA: 0s - loss: 2.8023 - accuracy: 0.1250\n",
      "Epoch 00023: val_loss did not improve from 1.75510\n",
      "13/13 [==============================] - 0s 3ms/step - loss: 2.2786 - accuracy: 0.2266 - val_loss: 1.8951 - val_accuracy: 0.2941\n",
      "Epoch 24/200\n",
      " 1/13 [=>............................] - ETA: 0s - loss: 2.0776 - accuracy: 0.2500\n",
      "Epoch 00024: val_loss did not improve from 1.75510\n",
      "13/13 [==============================] - 0s 2ms/step - loss: 2.2017 - accuracy: 0.2463 - val_loss: 1.8918 - val_accuracy: 0.2941\n",
      "Epoch 25/200\n",
      " 1/13 [=>............................] - ETA: 0s - loss: 2.0695 - accuracy: 0.3438\n",
      "Epoch 00025: val_loss did not improve from 1.75510\n",
      "13/13 [==============================] - 0s 3ms/step - loss: 2.1444 - accuracy: 0.2635 - val_loss: 1.8887 - val_accuracy: 0.2941\n",
      "Epoch 26/200\n",
      " 1/13 [=>............................] - ETA: 0s - loss: 2.0951 - accuracy: 0.1875\n",
      "Epoch 00026: val_loss did not improve from 1.75510\n",
      "13/13 [==============================] - 0s 3ms/step - loss: 2.1995 - accuracy: 0.2241 - val_loss: 1.8858 - val_accuracy: 0.2941\n",
      "Epoch 27/200\n",
      " 1/13 [=>............................] - ETA: 0s - loss: 1.9871 - accuracy: 0.2188\n",
      "Epoch 00027: val_loss did not improve from 1.75510\n",
      "13/13 [==============================] - 0s 3ms/step - loss: 2.0697 - accuracy: 0.2414 - val_loss: 1.8829 - val_accuracy: 0.2941\n",
      "Epoch 28/200\n",
      " 1/13 [=>............................] - ETA: 0s - loss: 1.9420 - accuracy: 0.3125\n",
      "Epoch 00028: val_loss did not improve from 1.75510\n",
      "13/13 [==============================] - 0s 3ms/step - loss: 2.1846 - accuracy: 0.2537 - val_loss: 1.8801 - val_accuracy: 0.2941\n",
      "Epoch 29/200\n",
      " 1/13 [=>............................] - ETA: 0s - loss: 2.0937 - accuracy: 0.2188\n",
      "Epoch 00029: val_loss did not improve from 1.75510\n",
      "13/13 [==============================] - 0s 3ms/step - loss: 2.0629 - accuracy: 0.2660 - val_loss: 1.8774 - val_accuracy: 0.2941\n",
      "Epoch 30/200\n",
      " 1/13 [=>............................] - ETA: 0s - loss: 1.9406 - accuracy: 0.3438\n",
      "Epoch 00030: val_loss did not improve from 1.75510\n",
      "13/13 [==============================] - 0s 3ms/step - loss: 1.9451 - accuracy: 0.2685 - val_loss: 1.8745 - val_accuracy: 0.2941\n",
      "Epoch 31/200\n",
      " 1/13 [=>............................] - ETA: 0s - loss: 2.1082 - accuracy: 0.3438\n",
      "Epoch 00031: val_loss did not improve from 1.75510\n",
      "13/13 [==============================] - 0s 3ms/step - loss: 2.0088 - accuracy: 0.2512 - val_loss: 1.8719 - val_accuracy: 0.2941\n",
      "Epoch 32/200\n",
      " 1/13 [=>............................] - ETA: 0s - loss: 2.0131 - accuracy: 0.1875\n",
      "Epoch 00032: val_loss did not improve from 1.75510\n",
      "13/13 [==============================] - 0s 3ms/step - loss: 2.0246 - accuracy: 0.2512 - val_loss: 1.8694 - val_accuracy: 0.2941\n",
      "Epoch 33/200\n",
      " 1/13 [=>............................] - ETA: 0s - loss: 1.9754 - accuracy: 0.3125\n",
      "Epoch 00033: val_loss did not improve from 1.75510\n",
      "13/13 [==============================] - 0s 3ms/step - loss: 1.9899 - accuracy: 0.2562 - val_loss: 1.8671 - val_accuracy: 0.2941\n",
      "Epoch 34/200\n",
      " 1/13 [=>............................] - ETA: 0s - loss: 1.7897 - accuracy: 0.3125\n",
      "Epoch 00034: val_loss did not improve from 1.75510\n",
      "13/13 [==============================] - 0s 3ms/step - loss: 2.0161 - accuracy: 0.2438 - val_loss: 1.8647 - val_accuracy: 0.2941\n",
      "Epoch 35/200\n",
      " 1/13 [=>............................] - ETA: 0s - loss: 1.8470 - accuracy: 0.2812\n",
      "Epoch 00035: val_loss did not improve from 1.75510\n",
      "13/13 [==============================] - 0s 3ms/step - loss: 1.9880 - accuracy: 0.2365 - val_loss: 1.8624 - val_accuracy: 0.2941\n",
      "Epoch 36/200\n",
      " 1/13 [=>............................] - ETA: 0s - loss: 1.8625 - accuracy: 0.2812\n",
      "Epoch 00036: val_loss did not improve from 1.75510\n",
      "13/13 [==============================] - 0s 3ms/step - loss: 1.9654 - accuracy: 0.2759 - val_loss: 1.8601 - val_accuracy: 0.2941\n",
      "Epoch 37/200\n",
      " 1/13 [=>............................] - ETA: 0s - loss: 1.8997 - accuracy: 0.2188\n",
      "Epoch 00037: val_loss did not improve from 1.75510\n",
      "13/13 [==============================] - 0s 3ms/step - loss: 2.0268 - accuracy: 0.2537 - val_loss: 1.8577 - val_accuracy: 0.2941\n",
      "Epoch 38/200\n",
      " 1/13 [=>............................] - ETA: 0s - loss: 2.1079 - accuracy: 0.3125\n",
      "Epoch 00038: val_loss did not improve from 1.75510\n",
      "13/13 [==============================] - 0s 3ms/step - loss: 2.0078 - accuracy: 0.2685 - val_loss: 1.8553 - val_accuracy: 0.2941\n",
      "Epoch 39/200\n",
      " 1/13 [=>............................] - ETA: 0s - loss: 2.3841 - accuracy: 0.3750\n",
      "Epoch 00039: val_loss did not improve from 1.75510\n",
      "13/13 [==============================] - 0s 3ms/step - loss: 1.9797 - accuracy: 0.2660 - val_loss: 1.8535 - val_accuracy: 0.2941\n",
      "Epoch 40/200\n",
      " 1/13 [=>............................] - ETA: 0s - loss: 1.9387 - accuracy: 0.2188\n",
      "Epoch 00040: val_loss did not improve from 1.75510\n",
      "13/13 [==============================] - 0s 3ms/step - loss: 1.9269 - accuracy: 0.2635 - val_loss: 1.8512 - val_accuracy: 0.2941\n",
      "Epoch 41/200\n",
      " 1/13 [=>............................] - ETA: 0s - loss: 1.9753 - accuracy: 0.1875\n",
      "Epoch 00041: val_loss did not improve from 1.75510\n",
      "13/13 [==============================] - 0s 3ms/step - loss: 1.9508 - accuracy: 0.2488 - val_loss: 1.8491 - val_accuracy: 0.2941\n",
      "Epoch 42/200\n",
      " 1/13 [=>............................] - ETA: 0s - loss: 1.9413 - accuracy: 0.3125\n",
      "Epoch 00042: val_loss did not improve from 1.75510\n",
      "13/13 [==============================] - 0s 3ms/step - loss: 1.9858 - accuracy: 0.2537 - val_loss: 1.8469 - val_accuracy: 0.2941\n",
      "Epoch 43/200\n",
      " 1/13 [=>............................] - ETA: 0s - loss: 1.9267 - accuracy: 0.3438\n",
      "Epoch 00043: val_loss did not improve from 1.75510\n",
      "13/13 [==============================] - 0s 3ms/step - loss: 1.9301 - accuracy: 0.2635 - val_loss: 1.8442 - val_accuracy: 0.2941\n",
      "Epoch 44/200\n",
      " 1/13 [=>............................] - ETA: 0s - loss: 1.9223 - accuracy: 0.0938\n",
      "Epoch 00044: val_loss did not improve from 1.75510\n",
      "13/13 [==============================] - 0s 3ms/step - loss: 1.8885 - accuracy: 0.2611 - val_loss: 1.8422 - val_accuracy: 0.2941\n",
      "Epoch 45/200\n",
      " 1/13 [=>............................] - ETA: 0s - loss: 1.8800 - accuracy: 0.1562\n",
      "Epoch 00045: val_loss did not improve from 1.75510\n",
      "13/13 [==============================] - 0s 3ms/step - loss: 1.9194 - accuracy: 0.2635 - val_loss: 1.8413 - val_accuracy: 0.2941\n",
      "Epoch 46/200\n",
      " 1/13 [=>............................] - ETA: 0s - loss: 1.9331 - accuracy: 0.2500\n",
      "Epoch 00046: val_loss did not improve from 1.75510\n",
      "13/13 [==============================] - 0s 3ms/step - loss: 1.9528 - accuracy: 0.2586 - val_loss: 1.8392 - val_accuracy: 0.2941\n",
      "Epoch 47/200\n",
      " 1/13 [=>............................] - ETA: 0s - loss: 2.1128 - accuracy: 0.2812\n",
      "Epoch 00047: val_loss did not improve from 1.75510\n",
      "13/13 [==============================] - 0s 3ms/step - loss: 1.9208 - accuracy: 0.2660 - val_loss: 1.8374 - val_accuracy: 0.2941\n",
      "Epoch 48/200\n",
      " 1/13 [=>............................] - ETA: 0s - loss: 1.8000 - accuracy: 0.3438\n",
      "Epoch 00048: val_loss did not improve from 1.75510\n",
      "13/13 [==============================] - 0s 3ms/step - loss: 1.9113 - accuracy: 0.2463 - val_loss: 1.8354 - val_accuracy: 0.2941\n",
      "Epoch 49/200\n",
      " 1/13 [=>............................] - ETA: 0s - loss: 1.8966 - accuracy: 0.2500\n",
      "Epoch 00049: val_loss did not improve from 1.75510\n",
      "13/13 [==============================] - 0s 3ms/step - loss: 1.9709 - accuracy: 0.2660 - val_loss: 1.8335 - val_accuracy: 0.2941\n",
      "Epoch 50/200\n",
      " 1/13 [=>............................] - ETA: 0s - loss: 1.7594 - accuracy: 0.2188\n",
      "Epoch 00050: val_loss did not improve from 1.75510\n",
      "13/13 [==============================] - 0s 4ms/step - loss: 1.9596 - accuracy: 0.2562 - val_loss: 1.8319 - val_accuracy: 0.2941\n",
      "Epoch 51/200\n",
      " 1/13 [=>............................] - ETA: 0s - loss: 1.8732 - accuracy: 0.3125\n",
      "Epoch 00051: val_loss did not improve from 1.75510\n",
      "13/13 [==============================] - 0s 3ms/step - loss: 1.8687 - accuracy: 0.2709 - val_loss: 1.8303 - val_accuracy: 0.2941\n",
      "Epoch 52/200\n",
      " 1/13 [=>............................] - ETA: 0s - loss: 1.8173 - accuracy: 0.2188\n",
      "Epoch 00052: val_loss did not improve from 1.75510\n",
      "13/13 [==============================] - 0s 4ms/step - loss: 1.8527 - accuracy: 0.2685 - val_loss: 1.8282 - val_accuracy: 0.2941\n",
      "Epoch 53/200\n",
      " 1/13 [=>............................] - ETA: 0s - loss: 1.8398 - accuracy: 0.2500\n",
      "Epoch 00053: val_loss did not improve from 1.75510\n",
      "13/13 [==============================] - 0s 3ms/step - loss: 1.8642 - accuracy: 0.2537 - val_loss: 1.8265 - val_accuracy: 0.2941\n",
      "Epoch 54/200\n",
      " 1/13 [=>............................] - ETA: 0s - loss: 1.9313 - accuracy: 0.3438\n",
      "Epoch 00054: val_loss did not improve from 1.75510\n",
      "13/13 [==============================] - 0s 5ms/step - loss: 1.9090 - accuracy: 0.2586 - val_loss: 1.8254 - val_accuracy: 0.2941\n",
      "Epoch 55/200\n",
      " 1/13 [=>............................] - ETA: 0s - loss: 1.8530 - accuracy: 0.2188\n",
      "Epoch 00055: val_loss did not improve from 1.75510\n",
      "13/13 [==============================] - 0s 4ms/step - loss: 1.8366 - accuracy: 0.2709 - val_loss: 1.8235 - val_accuracy: 0.2941\n",
      "Epoch 56/200\n",
      " 1/13 [=>............................] - ETA: 0s - loss: 1.8323 - accuracy: 0.3438\n",
      "Epoch 00056: val_loss did not improve from 1.75510\n",
      "13/13 [==============================] - 0s 4ms/step - loss: 1.8623 - accuracy: 0.2660 - val_loss: 1.8219 - val_accuracy: 0.2941\n",
      "Epoch 57/200\n",
      " 1/13 [=>............................] - ETA: 0s - loss: 1.8120 - accuracy: 0.2812\n",
      "Epoch 00057: val_loss did not improve from 1.75510\n",
      "13/13 [==============================] - 0s 4ms/step - loss: 1.8659 - accuracy: 0.2488 - val_loss: 1.8205 - val_accuracy: 0.2941\n",
      "Epoch 58/200\n",
      " 1/13 [=>............................] - ETA: 0s - loss: 1.8965 - accuracy: 0.3438\n",
      "Epoch 00058: val_loss did not improve from 1.75510\n",
      "13/13 [==============================] - 0s 3ms/step - loss: 1.8559 - accuracy: 0.2833 - val_loss: 1.8190 - val_accuracy: 0.2941\n",
      "Epoch 59/200\n",
      " 1/13 [=>............................] - ETA: 0s - loss: 1.6728 - accuracy: 0.3750\n",
      "Epoch 00059: val_loss did not improve from 1.75510\n",
      "13/13 [==============================] - 0s 3ms/step - loss: 1.8668 - accuracy: 0.2783 - val_loss: 1.8181 - val_accuracy: 0.2941\n",
      "Epoch 60/200\n",
      " 1/13 [=>............................] - ETA: 0s - loss: 1.8801 - accuracy: 0.2812\n",
      "Epoch 00060: val_loss did not improve from 1.75510\n",
      "13/13 [==============================] - 0s 3ms/step - loss: 1.9234 - accuracy: 0.2660 - val_loss: 1.8179 - val_accuracy: 0.2941\n",
      "Epoch 61/200\n",
      " 1/13 [=>............................] - ETA: 0s - loss: 1.8447 - accuracy: 0.2812\n",
      "Epoch 00061: val_loss did not improve from 1.75510\n",
      "13/13 [==============================] - 0s 3ms/step - loss: 1.9039 - accuracy: 0.2685 - val_loss: 1.8171 - val_accuracy: 0.2941\n",
      "Epoch 62/200\n",
      " 1/13 [=>............................] - ETA: 0s - loss: 1.8051 - accuracy: 0.2500\n",
      "Epoch 00062: val_loss did not improve from 1.75510\n",
      "13/13 [==============================] - 0s 3ms/step - loss: 1.8548 - accuracy: 0.2537 - val_loss: 1.8157 - val_accuracy: 0.2941\n",
      "Epoch 63/200\n",
      " 1/13 [=>............................] - ETA: 0s - loss: 1.8262 - accuracy: 0.2500\n",
      "Epoch 00063: val_loss did not improve from 1.75510\n",
      "13/13 [==============================] - 0s 3ms/step - loss: 1.8837 - accuracy: 0.2660 - val_loss: 1.8144 - val_accuracy: 0.2941\n",
      "Epoch 64/200\n",
      " 1/13 [=>............................] - ETA: 0s - loss: 1.8223 - accuracy: 0.2188\n",
      "Epoch 00064: val_loss did not improve from 1.75510\n",
      "13/13 [==============================] - 0s 3ms/step - loss: 1.8456 - accuracy: 0.2783 - val_loss: 1.8129 - val_accuracy: 0.2941\n",
      "Epoch 65/200\n",
      " 1/13 [=>............................] - ETA: 0s - loss: 1.7985 - accuracy: 0.2500\n",
      "Epoch 00065: val_loss did not improve from 1.75510\n",
      "13/13 [==============================] - 0s 3ms/step - loss: 1.8394 - accuracy: 0.2759 - val_loss: 1.8118 - val_accuracy: 0.2941\n",
      "Epoch 66/200\n",
      " 1/13 [=>............................] - ETA: 0s - loss: 1.8031 - accuracy: 0.4062\n",
      "Epoch 00066: val_loss did not improve from 1.75510\n",
      "13/13 [==============================] - 0s 3ms/step - loss: 1.8518 - accuracy: 0.2709 - val_loss: 1.8107 - val_accuracy: 0.2941\n",
      "Epoch 67/200\n",
      " 1/13 [=>............................] - ETA: 0s - loss: 1.8621 - accuracy: 0.1875\n",
      "Epoch 00067: val_loss did not improve from 1.75510\n",
      "13/13 [==============================] - 0s 3ms/step - loss: 1.8076 - accuracy: 0.2734 - val_loss: 1.8097 - val_accuracy: 0.2941\n",
      "Epoch 68/200\n",
      " 1/13 [=>............................] - ETA: 0s - loss: 1.8667 - accuracy: 0.2812\n",
      "Epoch 00068: val_loss did not improve from 1.75510\n",
      "13/13 [==============================] - 0s 4ms/step - loss: 1.8085 - accuracy: 0.2759 - val_loss: 1.8086 - val_accuracy: 0.2941\n",
      "Epoch 69/200\n",
      " 1/13 [=>............................] - ETA: 0s - loss: 1.8628 - accuracy: 0.1250\n",
      "Epoch 00069: val_loss did not improve from 1.75510\n",
      "13/13 [==============================] - 0s 3ms/step - loss: 1.8414 - accuracy: 0.2709 - val_loss: 1.8075 - val_accuracy: 0.2941\n",
      "Epoch 70/200\n",
      " 1/13 [=>............................] - ETA: 0s - loss: 1.7794 - accuracy: 0.4062\n",
      "Epoch 00070: val_loss did not improve from 1.75510\n",
      "13/13 [==============================] - 0s 3ms/step - loss: 1.8317 - accuracy: 0.2759 - val_loss: 1.8060 - val_accuracy: 0.2941\n",
      "Epoch 71/200\n",
      " 1/13 [=>............................] - ETA: 0s - loss: 1.8040 - accuracy: 0.2500\n",
      "Epoch 00071: val_loss did not improve from 1.75510\n",
      "13/13 [==============================] - 0s 4ms/step - loss: 1.8389 - accuracy: 0.2586 - val_loss: 1.8047 - val_accuracy: 0.2941\n",
      "Epoch 72/200\n",
      " 1/13 [=>............................] - ETA: 0s - loss: 1.7758 - accuracy: 0.3125\n",
      "Epoch 00072: val_loss did not improve from 1.75510\n",
      "13/13 [==============================] - 0s 3ms/step - loss: 1.8513 - accuracy: 0.2562 - val_loss: 1.8029 - val_accuracy: 0.2941\n",
      "Epoch 73/200\n",
      " 1/13 [=>............................] - ETA: 0s - loss: 2.1777 - accuracy: 0.3438\n",
      "Epoch 00073: val_loss did not improve from 1.75510\n",
      "13/13 [==============================] - 0s 3ms/step - loss: 1.8611 - accuracy: 0.2709 - val_loss: 1.8017 - val_accuracy: 0.2941\n",
      "Epoch 74/200\n",
      " 1/13 [=>............................] - ETA: 0s - loss: 1.8642 - accuracy: 0.3125\n",
      "Epoch 00074: val_loss did not improve from 1.75510\n",
      "13/13 [==============================] - 0s 3ms/step - loss: 1.8141 - accuracy: 0.2882 - val_loss: 1.8015 - val_accuracy: 0.2941\n",
      "Epoch 75/200\n",
      " 1/13 [=>............................] - ETA: 0s - loss: 1.7215 - accuracy: 0.3438\n",
      "Epoch 00075: val_loss did not improve from 1.75510\n",
      "13/13 [==============================] - 0s 3ms/step - loss: 1.7919 - accuracy: 0.2857 - val_loss: 1.7992 - val_accuracy: 0.2941\n",
      "Epoch 76/200\n",
      " 1/13 [=>............................] - ETA: 0s - loss: 1.7722 - accuracy: 0.3125\n",
      "Epoch 00076: val_loss did not improve from 1.75510\n",
      "13/13 [==============================] - 0s 3ms/step - loss: 1.8185 - accuracy: 0.2709 - val_loss: 1.7984 - val_accuracy: 0.2941\n",
      "Epoch 77/200\n",
      " 1/13 [=>............................] - ETA: 0s - loss: 1.8316 - accuracy: 0.2188\n",
      "Epoch 00077: val_loss did not improve from 1.75510\n",
      "13/13 [==============================] - 0s 3ms/step - loss: 1.8349 - accuracy: 0.2660 - val_loss: 1.7959 - val_accuracy: 0.2941\n",
      "Epoch 78/200\n",
      " 1/13 [=>............................] - ETA: 0s - loss: 1.7948 - accuracy: 0.2500\n",
      "Epoch 00078: val_loss did not improve from 1.75510\n",
      "13/13 [==============================] - 0s 3ms/step - loss: 1.8220 - accuracy: 0.2660 - val_loss: 1.7955 - val_accuracy: 0.2941\n",
      "Epoch 79/200\n",
      " 1/13 [=>............................] - ETA: 0s - loss: 1.7936 - accuracy: 0.2500\n",
      "Epoch 00079: val_loss did not improve from 1.75510\n",
      "13/13 [==============================] - 0s 3ms/step - loss: 1.8642 - accuracy: 0.2586 - val_loss: 1.7972 - val_accuracy: 0.2941\n",
      "Epoch 80/200\n",
      " 1/13 [=>............................] - ETA: 0s - loss: 1.7368 - accuracy: 0.4062\n",
      "Epoch 00080: val_loss did not improve from 1.75510\n",
      "13/13 [==============================] - 0s 3ms/step - loss: 1.8259 - accuracy: 0.2734 - val_loss: 1.7972 - val_accuracy: 0.2941\n",
      "Epoch 81/200\n",
      " 1/13 [=>............................] - ETA: 0s - loss: 1.8023 - accuracy: 0.2812\n",
      "Epoch 00081: val_loss did not improve from 1.75510\n",
      "13/13 [==============================] - 0s 3ms/step - loss: 1.8185 - accuracy: 0.2882 - val_loss: 1.7962 - val_accuracy: 0.2941\n",
      "Epoch 82/200\n",
      " 1/13 [=>............................] - ETA: 0s - loss: 1.9342 - accuracy: 0.1875\n",
      "Epoch 00082: val_loss did not improve from 1.75510\n",
      "13/13 [==============================] - 0s 3ms/step - loss: 1.8198 - accuracy: 0.2808 - val_loss: 1.7946 - val_accuracy: 0.2941\n",
      "Epoch 83/200\n",
      " 1/13 [=>............................] - ETA: 0s - loss: 2.4633 - accuracy: 0.3750\n",
      "Epoch 00083: val_loss did not improve from 1.75510\n",
      "13/13 [==============================] - 0s 3ms/step - loss: 1.8453 - accuracy: 0.2857 - val_loss: 1.7931 - val_accuracy: 0.2941\n",
      "Epoch 84/200\n",
      " 1/13 [=>............................] - ETA: 0s - loss: 1.7831 - accuracy: 0.4375\n",
      "Epoch 00084: val_loss did not improve from 1.75510\n",
      "13/13 [==============================] - 0s 3ms/step - loss: 1.7921 - accuracy: 0.2709 - val_loss: 1.7911 - val_accuracy: 0.2941\n",
      "Epoch 85/200\n",
      " 1/13 [=>............................] - ETA: 0s - loss: 1.8460 - accuracy: 0.1875\n",
      "Epoch 00085: val_loss did not improve from 1.75510\n",
      "13/13 [==============================] - 0s 3ms/step - loss: 1.8205 - accuracy: 0.2611 - val_loss: 1.7888 - val_accuracy: 0.2941\n",
      "Epoch 86/200\n",
      " 1/13 [=>............................] - ETA: 0s - loss: 1.7990 - accuracy: 0.2500\n",
      "Epoch 00086: val_loss did not improve from 1.75510\n",
      "13/13 [==============================] - 0s 3ms/step - loss: 1.8372 - accuracy: 0.2759 - val_loss: 1.7863 - val_accuracy: 0.2941\n",
      "Epoch 87/200\n",
      " 1/13 [=>............................] - ETA: 0s - loss: 1.9521 - accuracy: 0.2188\n",
      "Epoch 00087: val_loss did not improve from 1.75510\n",
      "13/13 [==============================] - 0s 3ms/step - loss: 1.8306 - accuracy: 0.2833 - val_loss: 1.7849 - val_accuracy: 0.2941\n",
      "Epoch 88/200\n",
      " 1/13 [=>............................] - ETA: 0s - loss: 1.8280 - accuracy: 0.1562\n",
      "Epoch 00088: val_loss did not improve from 1.75510\n",
      "13/13 [==============================] - 0s 3ms/step - loss: 1.7896 - accuracy: 0.2685 - val_loss: 1.7850 - val_accuracy: 0.2941\n",
      "Epoch 89/200\n",
      " 1/13 [=>............................] - ETA: 0s - loss: 1.7100 - accuracy: 0.4062\n",
      "Epoch 00089: val_loss did not improve from 1.75510\n",
      "13/13 [==============================] - 0s 3ms/step - loss: 1.8469 - accuracy: 0.2808 - val_loss: 1.7860 - val_accuracy: 0.2941\n",
      "Epoch 90/200\n",
      " 1/13 [=>............................] - ETA: 0s - loss: 1.8713 - accuracy: 0.1562\n",
      "Epoch 00090: val_loss did not improve from 1.75510\n",
      "13/13 [==============================] - 0s 4ms/step - loss: 1.7969 - accuracy: 0.2685 - val_loss: 1.7832 - val_accuracy: 0.2941\n",
      "Epoch 91/200\n",
      " 1/13 [=>............................] - ETA: 0s - loss: 1.9395 - accuracy: 0.2188\n",
      "Epoch 00091: val_loss did not improve from 1.75510\n",
      "13/13 [==============================] - 0s 4ms/step - loss: 1.8228 - accuracy: 0.2709 - val_loss: 1.7791 - val_accuracy: 0.2941\n",
      "Epoch 92/200\n",
      " 1/13 [=>............................] - ETA: 0s - loss: 1.8468 - accuracy: 0.2188\n",
      "Epoch 00092: val_loss did not improve from 1.75510\n",
      "13/13 [==============================] - 0s 4ms/step - loss: 1.8006 - accuracy: 0.2783 - val_loss: 1.7807 - val_accuracy: 0.2941\n",
      "Epoch 93/200\n",
      " 1/13 [=>............................] - ETA: 0s - loss: 1.8545 - accuracy: 0.2188\n",
      "Epoch 00093: val_loss did not improve from 1.75510\n",
      "13/13 [==============================] - 0s 3ms/step - loss: 1.8059 - accuracy: 0.2660 - val_loss: 1.7792 - val_accuracy: 0.2941\n",
      "Epoch 94/200\n",
      " 1/13 [=>............................] - ETA: 0s - loss: 1.8299 - accuracy: 0.2812\n",
      "Epoch 00094: val_loss did not improve from 1.75510\n",
      "13/13 [==============================] - 0s 3ms/step - loss: 1.7967 - accuracy: 0.2709 - val_loss: 1.7736 - val_accuracy: 0.2941\n",
      "Epoch 95/200\n",
      " 1/13 [=>............................] - ETA: 0s - loss: 1.7555 - accuracy: 0.2188\n",
      "Epoch 00095: val_loss did not improve from 1.75510\n",
      "13/13 [==============================] - 0s 3ms/step - loss: 1.7970 - accuracy: 0.2685 - val_loss: 1.7697 - val_accuracy: 0.2941\n",
      "Epoch 96/200\n",
      " 1/13 [=>............................] - ETA: 0s - loss: 1.7358 - accuracy: 0.3438\n",
      "Epoch 00096: val_loss did not improve from 1.75510\n",
      "13/13 [==============================] - 0s 4ms/step - loss: 1.8111 - accuracy: 0.2685 - val_loss: 1.7702 - val_accuracy: 0.2941\n",
      "Epoch 97/200\n",
      " 1/13 [=>............................] - ETA: 0s - loss: 1.8053 - accuracy: 0.2500\n",
      "Epoch 00097: val_loss did not improve from 1.75510\n",
      "13/13 [==============================] - 0s 3ms/step - loss: 1.7780 - accuracy: 0.2808 - val_loss: 1.7717 - val_accuracy: 0.2941\n",
      "Epoch 98/200\n",
      " 1/13 [=>............................] - ETA: 0s - loss: 1.7188 - accuracy: 0.3125\n",
      "Epoch 00098: val_loss did not improve from 1.75510\n",
      "13/13 [==============================] - 0s 2ms/step - loss: 1.7998 - accuracy: 0.2783 - val_loss: 1.7700 - val_accuracy: 0.2941\n",
      "Epoch 99/200\n",
      " 1/13 [=>............................] - ETA: 0s - loss: 1.8343 - accuracy: 0.2500\n",
      "Epoch 00099: val_loss did not improve from 1.75510\n",
      "13/13 [==============================] - 0s 3ms/step - loss: 1.8043 - accuracy: 0.2906 - val_loss: 1.7706 - val_accuracy: 0.2941\n",
      "Epoch 100/200\n",
      " 1/13 [=>............................] - ETA: 0s - loss: 1.8025 - accuracy: 0.2812\n",
      "Epoch 00100: val_loss did not improve from 1.75510\n",
      "13/13 [==============================] - 0s 3ms/step - loss: 1.7968 - accuracy: 0.2759 - val_loss: 1.7712 - val_accuracy: 0.2941\n",
      "Epoch 101/200\n",
      " 1/13 [=>............................] - ETA: 0s - loss: 1.6934 - accuracy: 0.3125\n",
      "Epoch 00101: val_loss did not improve from 1.75510\n",
      "13/13 [==============================] - 0s 3ms/step - loss: 1.8025 - accuracy: 0.2783 - val_loss: 1.7679 - val_accuracy: 0.2941\n",
      "Epoch 102/200\n",
      " 1/13 [=>............................] - ETA: 0s - loss: 1.8024 - accuracy: 0.2500\n",
      "Epoch 00102: val_loss did not improve from 1.75510\n",
      "13/13 [==============================] - 0s 3ms/step - loss: 1.7832 - accuracy: 0.2759 - val_loss: 1.7648 - val_accuracy: 0.3039\n",
      "Epoch 103/200\n",
      " 1/13 [=>............................] - ETA: 0s - loss: 1.7778 - accuracy: 0.3125\n",
      "Epoch 00103: val_loss did not improve from 1.75510\n",
      "13/13 [==============================] - 0s 3ms/step - loss: 1.7969 - accuracy: 0.2906 - val_loss: 1.7617 - val_accuracy: 0.3039\n",
      "Epoch 104/200\n",
      " 1/13 [=>............................] - ETA: 0s - loss: 1.7895 - accuracy: 0.2500\n",
      "Epoch 00104: val_loss did not improve from 1.75510\n",
      "13/13 [==============================] - 0s 3ms/step - loss: 1.8039 - accuracy: 0.2562 - val_loss: 1.7623 - val_accuracy: 0.2941\n",
      "Epoch 105/200\n",
      " 1/13 [=>............................] - ETA: 0s - loss: 1.7266 - accuracy: 0.2188\n",
      "Epoch 00105: val_loss did not improve from 1.75510\n",
      "13/13 [==============================] - 0s 3ms/step - loss: 1.7953 - accuracy: 0.2759 - val_loss: 1.7668 - val_accuracy: 0.2941\n",
      "Epoch 106/200\n",
      " 1/13 [=>............................] - ETA: 0s - loss: 1.7305 - accuracy: 0.3125\n",
      "Epoch 00106: val_loss did not improve from 1.75510\n",
      "13/13 [==============================] - 0s 3ms/step - loss: 1.7783 - accuracy: 0.2882 - val_loss: 1.7665 - val_accuracy: 0.2941\n",
      "Epoch 107/200\n",
      " 1/13 [=>............................] - ETA: 0s - loss: 1.8016 - accuracy: 0.2812\n",
      "Epoch 00107: val_loss did not improve from 1.75510\n",
      "13/13 [==============================] - 0s 3ms/step - loss: 1.7860 - accuracy: 0.3079 - val_loss: 1.7614 - val_accuracy: 0.3137\n",
      "Epoch 108/200\n",
      " 1/13 [=>............................] - ETA: 0s - loss: 1.7144 - accuracy: 0.2500\n",
      "Epoch 00108: val_loss did not improve from 1.75510\n",
      "13/13 [==============================] - 0s 3ms/step - loss: 1.8102 - accuracy: 0.2611 - val_loss: 1.7627 - val_accuracy: 0.3039\n",
      "Epoch 109/200\n",
      " 1/13 [=>............................] - ETA: 0s - loss: 1.7748 - accuracy: 0.3125\n",
      "Epoch 00109: val_loss did not improve from 1.75510\n",
      "13/13 [==============================] - 0s 3ms/step - loss: 1.7717 - accuracy: 0.2759 - val_loss: 1.7634 - val_accuracy: 0.2941\n",
      "Epoch 110/200\n",
      " 1/13 [=>............................] - ETA: 0s - loss: 1.7730 - accuracy: 0.3125\n",
      "Epoch 00110: val_loss did not improve from 1.75510\n",
      "13/13 [==============================] - 0s 3ms/step - loss: 1.7844 - accuracy: 0.2734 - val_loss: 1.7626 - val_accuracy: 0.2941\n",
      "Epoch 111/200\n",
      " 1/13 [=>............................] - ETA: 0s - loss: 1.7893 - accuracy: 0.1875\n",
      "Epoch 00111: val_loss did not improve from 1.75510\n",
      "13/13 [==============================] - 0s 3ms/step - loss: 1.7731 - accuracy: 0.2709 - val_loss: 1.7610 - val_accuracy: 0.2941\n",
      "Epoch 112/200\n",
      " 1/13 [=>............................] - ETA: 0s - loss: 1.8708 - accuracy: 0.1875\n",
      "Epoch 00112: val_loss did not improve from 1.75510\n",
      "13/13 [==============================] - 0s 3ms/step - loss: 1.8003 - accuracy: 0.2734 - val_loss: 1.7621 - val_accuracy: 0.2941\n",
      "Epoch 113/200\n",
      " 1/13 [=>............................] - ETA: 0s - loss: 1.6818 - accuracy: 0.4062\n",
      "Epoch 00113: val_loss did not improve from 1.75510\n",
      "13/13 [==============================] - 0s 3ms/step - loss: 1.7743 - accuracy: 0.2759 - val_loss: 1.7589 - val_accuracy: 0.2941\n",
      "Epoch 114/200\n",
      " 1/13 [=>............................] - ETA: 0s - loss: 1.8490 - accuracy: 0.2500\n",
      "Epoch 00114: val_loss did not improve from 1.75510\n",
      "13/13 [==============================] - 0s 3ms/step - loss: 1.7718 - accuracy: 0.2882 - val_loss: 1.7559 - val_accuracy: 0.3039\n",
      "Epoch 115/200\n",
      " 1/13 [=>............................] - ETA: 0s - loss: 1.8562 - accuracy: 0.4062\n",
      "Epoch 00115: val_loss did not improve from 1.75510\n",
      "13/13 [==============================] - 0s 4ms/step - loss: 1.7739 - accuracy: 0.2857 - val_loss: 1.7622 - val_accuracy: 0.3039\n",
      "Epoch 116/200\n",
      " 1/13 [=>............................] - ETA: 0s - loss: 1.6184 - accuracy: 0.4062\n",
      "Epoch 00116: val_loss did not improve from 1.75510\n",
      "13/13 [==============================] - 0s 3ms/step - loss: 1.7742 - accuracy: 0.2808 - val_loss: 1.7649 - val_accuracy: 0.2941\n",
      "Epoch 117/200\n",
      " 1/13 [=>............................] - ETA: 0s - loss: 1.7904 - accuracy: 0.3125\n",
      "Epoch 00117: val_loss did not improve from 1.75510\n",
      "13/13 [==============================] - 0s 3ms/step - loss: 1.7738 - accuracy: 0.2956 - val_loss: 1.7625 - val_accuracy: 0.3137\n",
      "Epoch 118/200\n",
      " 1/13 [=>............................] - ETA: 0s - loss: 1.7522 - accuracy: 0.2812\n",
      "Epoch 00118: val_loss did not improve from 1.75510\n",
      "13/13 [==============================] - 0s 3ms/step - loss: 1.7565 - accuracy: 0.2931 - val_loss: 1.7602 - val_accuracy: 0.3137\n",
      "Epoch 119/200\n",
      " 1/13 [=>............................] - ETA: 0s - loss: 1.8077 - accuracy: 0.2500\n",
      "Epoch 00119: val_loss did not improve from 1.75510\n",
      "13/13 [==============================] - 0s 3ms/step - loss: 1.7848 - accuracy: 0.2783 - val_loss: 1.7609 - val_accuracy: 0.3137\n",
      "Epoch 120/200\n",
      " 1/13 [=>............................] - ETA: 0s - loss: 1.7100 - accuracy: 0.2500\n",
      "Epoch 00120: val_loss did not improve from 1.75510\n",
      "13/13 [==============================] - 0s 3ms/step - loss: 1.7685 - accuracy: 0.3030 - val_loss: 1.7556 - val_accuracy: 0.3137\n",
      "Epoch 121/200\n",
      " 1/13 [=>............................] - ETA: 0s - loss: 1.7434 - accuracy: 0.2500\n",
      "Epoch 00121: val_loss improved from 1.75510 to 1.75278, saving model to saved_models\\audio_classification.hdf5\n",
      "13/13 [==============================] - 0s 3ms/step - loss: 1.7876 - accuracy: 0.2734 - val_loss: 1.7528 - val_accuracy: 0.3137\n",
      "Epoch 122/200\n",
      " 1/13 [=>............................] - ETA: 0s - loss: 1.7097 - accuracy: 0.3438\n",
      "Epoch 00122: val_loss improved from 1.75278 to 1.74278, saving model to saved_models\\audio_classification.hdf5\n",
      "13/13 [==============================] - 0s 3ms/step - loss: 1.7694 - accuracy: 0.2956 - val_loss: 1.7428 - val_accuracy: 0.3235\n",
      "Epoch 123/200\n",
      " 1/13 [=>............................] - ETA: 0s - loss: 1.7504 - accuracy: 0.3125\n",
      "Epoch 00123: val_loss improved from 1.74278 to 1.73964, saving model to saved_models\\audio_classification.hdf5\n",
      "13/13 [==============================] - 0s 3ms/step - loss: 1.7686 - accuracy: 0.2808 - val_loss: 1.7396 - val_accuracy: 0.3235\n",
      "Epoch 124/200\n",
      " 1/13 [=>............................] - ETA: 0s - loss: 1.8029 - accuracy: 0.2812\n",
      "Epoch 00124: val_loss did not improve from 1.73964\n",
      "13/13 [==============================] - 0s 3ms/step - loss: 1.7741 - accuracy: 0.2956 - val_loss: 1.7439 - val_accuracy: 0.3235\n",
      "Epoch 125/200\n",
      " 1/13 [=>............................] - ETA: 0s - loss: 1.7489 - accuracy: 0.2188\n",
      "Epoch 00125: val_loss did not improve from 1.73964\n",
      "13/13 [==============================] - 0s 3ms/step - loss: 1.7604 - accuracy: 0.2586 - val_loss: 1.7465 - val_accuracy: 0.3137\n",
      "Epoch 126/200\n",
      " 1/13 [=>............................] - ETA: 0s - loss: 1.9715 - accuracy: 0.2812\n",
      "Epoch 00126: val_loss did not improve from 1.73964\n",
      "13/13 [==============================] - 0s 3ms/step - loss: 1.7965 - accuracy: 0.2759 - val_loss: 1.7505 - val_accuracy: 0.3039\n",
      "Epoch 127/200\n",
      " 1/13 [=>............................] - ETA: 0s - loss: 1.8148 - accuracy: 0.1875\n",
      "Epoch 00127: val_loss did not improve from 1.73964\n",
      "13/13 [==============================] - 0s 3ms/step - loss: 1.7429 - accuracy: 0.2857 - val_loss: 1.7435 - val_accuracy: 0.3137\n",
      "Epoch 128/200\n",
      " 1/13 [=>............................] - ETA: 0s - loss: 1.6620 - accuracy: 0.3125\n",
      "Epoch 00128: val_loss improved from 1.73964 to 1.73742, saving model to saved_models\\audio_classification.hdf5\n",
      "13/13 [==============================] - 0s 3ms/step - loss: 1.7825 - accuracy: 0.2562 - val_loss: 1.7374 - val_accuracy: 0.3137\n",
      "Epoch 129/200\n",
      " 1/13 [=>............................] - ETA: 0s - loss: 1.7570 - accuracy: 0.3125\n",
      "Epoch 00129: val_loss improved from 1.73742 to 1.73634, saving model to saved_models\\audio_classification.hdf5\n",
      "13/13 [==============================] - 0s 3ms/step - loss: 1.7831 - accuracy: 0.2857 - val_loss: 1.7363 - val_accuracy: 0.3137\n",
      "Epoch 130/200\n",
      " 1/13 [=>............................] - ETA: 0s - loss: 1.7104 - accuracy: 0.3438\n",
      "Epoch 00130: val_loss did not improve from 1.73634\n",
      "13/13 [==============================] - 0s 3ms/step - loss: 1.7711 - accuracy: 0.2882 - val_loss: 1.7430 - val_accuracy: 0.3137\n",
      "Epoch 131/200\n",
      " 1/13 [=>............................] - ETA: 0s - loss: 1.7876 - accuracy: 0.2812\n",
      "Epoch 00131: val_loss did not improve from 1.73634\n",
      "13/13 [==============================] - 0s 3ms/step - loss: 1.7456 - accuracy: 0.2980 - val_loss: 1.7412 - val_accuracy: 0.3137\n",
      "Epoch 132/200\n",
      " 1/13 [=>............................] - ETA: 0s - loss: 1.8391 - accuracy: 0.2500\n",
      "Epoch 00132: val_loss did not improve from 1.73634\n",
      "13/13 [==============================] - 0s 3ms/step - loss: 1.7517 - accuracy: 0.2833 - val_loss: 1.7377 - val_accuracy: 0.3137\n",
      "Epoch 133/200\n",
      " 1/13 [=>............................] - ETA: 0s - loss: 1.6737 - accuracy: 0.3750\n",
      "Epoch 00133: val_loss improved from 1.73634 to 1.73198, saving model to saved_models\\audio_classification.hdf5\n",
      "13/13 [==============================] - 0s 3ms/step - loss: 1.7648 - accuracy: 0.3054 - val_loss: 1.7320 - val_accuracy: 0.3137\n",
      "Epoch 134/200\n",
      " 1/13 [=>............................] - ETA: 0s - loss: 1.7608 - accuracy: 0.3125\n",
      "Epoch 00134: val_loss did not improve from 1.73198\n",
      "13/13 [==============================] - 0s 3ms/step - loss: 1.7667 - accuracy: 0.2857 - val_loss: 1.7428 - val_accuracy: 0.3137\n",
      "Epoch 135/200\n",
      " 1/13 [=>............................] - ETA: 0s - loss: 1.8850 - accuracy: 0.1875\n",
      "Epoch 00135: val_loss improved from 1.73198 to 1.73183, saving model to saved_models\\audio_classification.hdf5\n",
      "13/13 [==============================] - 0s 3ms/step - loss: 1.7317 - accuracy: 0.3030 - val_loss: 1.7318 - val_accuracy: 0.3137\n",
      "Epoch 136/200\n",
      " 1/13 [=>............................] - ETA: 0s - loss: 1.7223 - accuracy: 0.3438\n",
      "Epoch 00136: val_loss improved from 1.73183 to 1.72441, saving model to saved_models\\audio_classification.hdf5\n",
      "13/13 [==============================] - 0s 3ms/step - loss: 1.7470 - accuracy: 0.2931 - val_loss: 1.7244 - val_accuracy: 0.3235\n",
      "Epoch 137/200\n",
      " 1/13 [=>............................] - ETA: 0s - loss: 1.7669 - accuracy: 0.4062\n",
      "Epoch 00137: val_loss did not improve from 1.72441\n",
      "13/13 [==============================] - 0s 3ms/step - loss: 1.7730 - accuracy: 0.2685 - val_loss: 1.7288 - val_accuracy: 0.3137\n",
      "Epoch 138/200\n",
      " 1/13 [=>............................] - ETA: 0s - loss: 1.7490 - accuracy: 0.2812\n",
      "Epoch 00138: val_loss did not improve from 1.72441\n",
      "13/13 [==============================] - 0s 3ms/step - loss: 1.7677 - accuracy: 0.2685 - val_loss: 1.7396 - val_accuracy: 0.2941\n",
      "Epoch 139/200\n",
      " 1/13 [=>............................] - ETA: 0s - loss: 1.6660 - accuracy: 0.2188\n",
      "Epoch 00139: val_loss did not improve from 1.72441\n",
      "13/13 [==============================] - 0s 3ms/step - loss: 1.7678 - accuracy: 0.2783 - val_loss: 1.7340 - val_accuracy: 0.2941\n",
      "Epoch 140/200\n",
      " 1/13 [=>............................] - ETA: 0s - loss: 1.7564 - accuracy: 0.2188\n",
      "Epoch 00140: val_loss did not improve from 1.72441\n",
      "13/13 [==============================] - 0s 3ms/step - loss: 1.7658 - accuracy: 0.2980 - val_loss: 1.7268 - val_accuracy: 0.3137\n",
      "Epoch 141/200\n",
      " 1/13 [=>............................] - ETA: 0s - loss: 1.6789 - accuracy: 0.3438\n",
      "Epoch 00141: val_loss did not improve from 1.72441\n",
      "13/13 [==============================] - 0s 4ms/step - loss: 1.7716 - accuracy: 0.2783 - val_loss: 1.7271 - val_accuracy: 0.3137\n",
      "Epoch 142/200\n",
      " 1/13 [=>............................] - ETA: 0s - loss: 1.8600 - accuracy: 0.1562\n",
      "Epoch 00142: val_loss improved from 1.72441 to 1.72276, saving model to saved_models\\audio_classification.hdf5\n",
      "13/13 [==============================] - 0s 3ms/step - loss: 1.7434 - accuracy: 0.2783 - val_loss: 1.7228 - val_accuracy: 0.3137\n",
      "Epoch 143/200\n",
      " 1/13 [=>............................] - ETA: 0s - loss: 1.7372 - accuracy: 0.3438\n",
      "Epoch 00143: val_loss improved from 1.72276 to 1.71841, saving model to saved_models\\audio_classification.hdf5\n",
      "13/13 [==============================] - 0s 3ms/step - loss: 1.7808 - accuracy: 0.2734 - val_loss: 1.7184 - val_accuracy: 0.2941\n",
      "Epoch 144/200\n",
      " 1/13 [=>............................] - ETA: 0s - loss: 1.6444 - accuracy: 0.4062\n",
      "Epoch 00144: val_loss improved from 1.71841 to 1.71628, saving model to saved_models\\audio_classification.hdf5\n",
      "13/13 [==============================] - 0s 3ms/step - loss: 1.7550 - accuracy: 0.2808 - val_loss: 1.7163 - val_accuracy: 0.3039\n",
      "Epoch 145/200\n",
      " 1/13 [=>............................] - ETA: 0s - loss: 1.7549 - accuracy: 0.1875\n",
      "Epoch 00145: val_loss improved from 1.71628 to 1.71121, saving model to saved_models\\audio_classification.hdf5\n",
      "13/13 [==============================] - 0s 3ms/step - loss: 1.7950 - accuracy: 0.3030 - val_loss: 1.7112 - val_accuracy: 0.3137\n",
      "Epoch 146/200\n",
      " 1/13 [=>............................] - ETA: 0s - loss: 1.6800 - accuracy: 0.4062\n",
      "Epoch 00146: val_loss did not improve from 1.71121\n",
      "13/13 [==============================] - 0s 3ms/step - loss: 1.7403 - accuracy: 0.2882 - val_loss: 1.7197 - val_accuracy: 0.3137\n",
      "Epoch 147/200\n",
      " 1/13 [=>............................] - ETA: 0s - loss: 1.5955 - accuracy: 0.3125\n",
      "Epoch 00147: val_loss did not improve from 1.71121\n",
      "13/13 [==============================] - 0s 3ms/step - loss: 1.7566 - accuracy: 0.2906 - val_loss: 1.7247 - val_accuracy: 0.3235\n",
      "Epoch 148/200\n",
      " 1/13 [=>............................] - ETA: 0s - loss: 1.7136 - accuracy: 0.2812\n",
      "Epoch 00148: val_loss did not improve from 1.71121\n",
      "13/13 [==============================] - 0s 3ms/step - loss: 1.7352 - accuracy: 0.3103 - val_loss: 1.7169 - val_accuracy: 0.3235\n",
      "Epoch 149/200\n",
      " 1/13 [=>............................] - ETA: 0s - loss: 1.6678 - accuracy: 0.3750\n",
      "Epoch 00149: val_loss improved from 1.71121 to 1.70426, saving model to saved_models\\audio_classification.hdf5\n",
      "13/13 [==============================] - 0s 3ms/step - loss: 1.7151 - accuracy: 0.2980 - val_loss: 1.7043 - val_accuracy: 0.3333\n",
      "Epoch 150/200\n",
      " 1/13 [=>............................] - ETA: 0s - loss: 1.6865 - accuracy: 0.2500\n",
      "Epoch 00150: val_loss improved from 1.70426 to 1.70182, saving model to saved_models\\audio_classification.hdf5\n",
      "13/13 [==============================] - 0s 3ms/step - loss: 1.7419 - accuracy: 0.2808 - val_loss: 1.7018 - val_accuracy: 0.3235\n",
      "Epoch 151/200\n",
      " 1/13 [=>............................] - ETA: 0s - loss: 1.7922 - accuracy: 0.2812\n",
      "Epoch 00151: val_loss did not improve from 1.70182\n",
      "13/13 [==============================] - 0s 3ms/step - loss: 1.7196 - accuracy: 0.3103 - val_loss: 1.7026 - val_accuracy: 0.3137\n",
      "Epoch 152/200\n",
      " 1/13 [=>............................] - ETA: 0s - loss: 1.6907 - accuracy: 0.1562\n",
      "Epoch 00152: val_loss did not improve from 1.70182\n",
      "13/13 [==============================] - 0s 3ms/step - loss: 1.7414 - accuracy: 0.2783 - val_loss: 1.7117 - val_accuracy: 0.2941\n",
      "Epoch 153/200\n",
      " 1/13 [=>............................] - ETA: 0s - loss: 1.6124 - accuracy: 0.4062\n",
      "Epoch 00153: val_loss did not improve from 1.70182\n",
      "13/13 [==============================] - 0s 3ms/step - loss: 1.7385 - accuracy: 0.2931 - val_loss: 1.7050 - val_accuracy: 0.3235\n",
      "Epoch 154/200\n",
      " 1/13 [=>............................] - ETA: 0s - loss: 1.7014 - accuracy: 0.2812\n",
      "Epoch 00154: val_loss improved from 1.70182 to 1.69536, saving model to saved_models\\audio_classification.hdf5\n",
      "13/13 [==============================] - 0s 3ms/step - loss: 1.7422 - accuracy: 0.3005 - val_loss: 1.6954 - val_accuracy: 0.3235\n",
      "Epoch 155/200\n",
      " 1/13 [=>............................] - ETA: 0s - loss: 1.5399 - accuracy: 0.4375\n",
      "Epoch 00155: val_loss did not improve from 1.69536\n",
      "13/13 [==============================] - 0s 3ms/step - loss: 1.7736 - accuracy: 0.2857 - val_loss: 1.7131 - val_accuracy: 0.3137\n",
      "Epoch 156/200\n",
      " 1/13 [=>............................] - ETA: 0s - loss: 1.6278 - accuracy: 0.4062\n",
      "Epoch 00156: val_loss did not improve from 1.69536\n",
      "13/13 [==============================] - 0s 3ms/step - loss: 1.7253 - accuracy: 0.3005 - val_loss: 1.7121 - val_accuracy: 0.3137\n",
      "Epoch 157/200\n",
      " 1/13 [=>............................] - ETA: 0s - loss: 1.6750 - accuracy: 0.4062\n",
      "Epoch 00157: val_loss did not improve from 1.69536\n",
      "13/13 [==============================] - 0s 3ms/step - loss: 1.7466 - accuracy: 0.3103 - val_loss: 1.7177 - val_accuracy: 0.3137\n",
      "Epoch 158/200\n",
      " 1/13 [=>............................] - ETA: 0s - loss: 1.6839 - accuracy: 0.2812\n",
      "Epoch 00158: val_loss did not improve from 1.69536\n",
      "13/13 [==============================] - 0s 3ms/step - loss: 1.7304 - accuracy: 0.3005 - val_loss: 1.7173 - val_accuracy: 0.3235\n",
      "Epoch 159/200\n",
      " 1/13 [=>............................] - ETA: 0s - loss: 1.8996 - accuracy: 0.1875\n",
      "Epoch 00159: val_loss did not improve from 1.69536\n",
      "13/13 [==============================] - 0s 3ms/step - loss: 1.7405 - accuracy: 0.3005 - val_loss: 1.7120 - val_accuracy: 0.3235\n",
      "Epoch 160/200\n",
      " 1/13 [=>............................] - ETA: 0s - loss: 1.6833 - accuracy: 0.2500\n",
      "Epoch 00160: val_loss improved from 1.69536 to 1.69398, saving model to saved_models\\audio_classification.hdf5\n",
      "13/13 [==============================] - 0s 3ms/step - loss: 1.7500 - accuracy: 0.2857 - val_loss: 1.6940 - val_accuracy: 0.3333\n",
      "Epoch 161/200\n",
      " 1/13 [=>............................] - ETA: 0s - loss: 1.7639 - accuracy: 0.3750\n",
      "Epoch 00161: val_loss did not improve from 1.69398\n",
      "13/13 [==============================] - 0s 3ms/step - loss: 1.7334 - accuracy: 0.2980 - val_loss: 1.6989 - val_accuracy: 0.3039\n",
      "Epoch 162/200\n",
      " 1/13 [=>............................] - ETA: 0s - loss: 1.7651 - accuracy: 0.2500\n",
      "Epoch 00162: val_loss did not improve from 1.69398\n",
      "13/13 [==============================] - 0s 3ms/step - loss: 1.7320 - accuracy: 0.2857 - val_loss: 1.6982 - val_accuracy: 0.2941\n",
      "Epoch 163/200\n",
      " 1/13 [=>............................] - ETA: 0s - loss: 1.8297 - accuracy: 0.2812\n",
      "Epoch 00163: val_loss did not improve from 1.69398\n",
      "13/13 [==============================] - 0s 3ms/step - loss: 1.7343 - accuracy: 0.2882 - val_loss: 1.6995 - val_accuracy: 0.3137\n",
      "Epoch 164/200\n",
      " 1/13 [=>............................] - ETA: 0s - loss: 1.6810 - accuracy: 0.2500\n",
      "Epoch 00164: val_loss did not improve from 1.69398\n",
      "13/13 [==============================] - 0s 3ms/step - loss: 1.7503 - accuracy: 0.2734 - val_loss: 1.7055 - val_accuracy: 0.3137\n",
      "Epoch 165/200\n",
      " 1/13 [=>............................] - ETA: 0s - loss: 1.8425 - accuracy: 0.0938\n",
      "Epoch 00165: val_loss did not improve from 1.69398\n",
      "13/13 [==============================] - 0s 3ms/step - loss: 1.7559 - accuracy: 0.2882 - val_loss: 1.7108 - val_accuracy: 0.3039\n",
      "Epoch 166/200\n",
      " 1/13 [=>............................] - ETA: 0s - loss: 1.8515 - accuracy: 0.2812\n",
      "Epoch 00166: val_loss did not improve from 1.69398\n",
      "13/13 [==============================] - 0s 3ms/step - loss: 1.7294 - accuracy: 0.3103 - val_loss: 1.7167 - val_accuracy: 0.3137\n",
      "Epoch 167/200\n",
      " 1/13 [=>............................] - ETA: 0s - loss: 1.6693 - accuracy: 0.3125\n",
      "Epoch 00167: val_loss did not improve from 1.69398\n",
      "13/13 [==============================] - 0s 3ms/step - loss: 1.7213 - accuracy: 0.2882 - val_loss: 1.7085 - val_accuracy: 0.3235\n",
      "Epoch 168/200\n",
      " 1/13 [=>............................] - ETA: 0s - loss: 1.7543 - accuracy: 0.3125\n",
      "Epoch 00168: val_loss did not improve from 1.69398\n",
      "13/13 [==============================] - 0s 3ms/step - loss: 1.7263 - accuracy: 0.3054 - val_loss: 1.6988 - val_accuracy: 0.3333\n",
      "Epoch 169/200\n",
      " 1/13 [=>............................] - ETA: 0s - loss: 1.7694 - accuracy: 0.2812\n",
      "Epoch 00169: val_loss did not improve from 1.69398\n",
      "13/13 [==============================] - 0s 3ms/step - loss: 1.7565 - accuracy: 0.2882 - val_loss: 1.7038 - val_accuracy: 0.3235\n",
      "Epoch 170/200\n",
      " 1/13 [=>............................] - ETA: 0s - loss: 1.5383 - accuracy: 0.5000\n",
      "Epoch 00170: val_loss did not improve from 1.69398\n",
      "13/13 [==============================] - 0s 3ms/step - loss: 1.7651 - accuracy: 0.2833 - val_loss: 1.7269 - val_accuracy: 0.3137\n",
      "Epoch 171/200\n",
      " 1/13 [=>............................] - ETA: 0s - loss: 1.6993 - accuracy: 0.2812\n",
      "Epoch 00171: val_loss did not improve from 1.69398\n",
      "13/13 [==============================] - 0s 3ms/step - loss: 1.7252 - accuracy: 0.3030 - val_loss: 1.7225 - val_accuracy: 0.3137\n",
      "Epoch 172/200\n",
      " 1/13 [=>............................] - ETA: 0s - loss: 1.7470 - accuracy: 0.2812\n",
      "Epoch 00172: val_loss did not improve from 1.69398\n",
      "13/13 [==============================] - 0s 3ms/step - loss: 1.7324 - accuracy: 0.3005 - val_loss: 1.7049 - val_accuracy: 0.3235\n",
      "Epoch 173/200\n",
      " 1/13 [=>............................] - ETA: 0s - loss: 1.6754 - accuracy: 0.3750\n",
      "Epoch 00173: val_loss improved from 1.69398 to 1.68389, saving model to saved_models\\audio_classification.hdf5\n",
      "13/13 [==============================] - 0s 3ms/step - loss: 1.7262 - accuracy: 0.2980 - val_loss: 1.6839 - val_accuracy: 0.3235\n",
      "Epoch 174/200\n",
      " 1/13 [=>............................] - ETA: 0s - loss: 1.5846 - accuracy: 0.3438\n",
      "Epoch 00174: val_loss improved from 1.68389 to 1.67696, saving model to saved_models\\audio_classification.hdf5\n",
      "13/13 [==============================] - 0s 3ms/step - loss: 1.7424 - accuracy: 0.3054 - val_loss: 1.6770 - val_accuracy: 0.3235\n",
      "Epoch 175/200\n",
      " 1/13 [=>............................] - ETA: 0s - loss: 1.5917 - accuracy: 0.3125\n",
      "Epoch 00175: val_loss did not improve from 1.67696\n",
      "13/13 [==============================] - 0s 3ms/step - loss: 1.7287 - accuracy: 0.3005 - val_loss: 1.6992 - val_accuracy: 0.3039\n",
      "Epoch 176/200\n",
      " 1/13 [=>............................] - ETA: 0s - loss: 1.6814 - accuracy: 0.4375\n",
      "Epoch 00176: val_loss did not improve from 1.67696\n",
      "13/13 [==============================] - 0s 3ms/step - loss: 1.7375 - accuracy: 0.2783 - val_loss: 1.6973 - val_accuracy: 0.3039\n",
      "Epoch 177/200\n",
      " 1/13 [=>............................] - ETA: 0s - loss: 1.6673 - accuracy: 0.2812\n",
      "Epoch 00177: val_loss did not improve from 1.67696\n",
      "13/13 [==============================] - 0s 3ms/step - loss: 1.7265 - accuracy: 0.3054 - val_loss: 1.6832 - val_accuracy: 0.3235\n",
      "Epoch 178/200\n",
      " 1/13 [=>............................] - ETA: 0s - loss: 1.7453 - accuracy: 0.2500\n",
      "Epoch 00178: val_loss did not improve from 1.67696\n",
      "13/13 [==============================] - 0s 3ms/step - loss: 1.7208 - accuracy: 0.3005 - val_loss: 1.6824 - val_accuracy: 0.3235\n",
      "Epoch 179/200\n",
      " 1/13 [=>............................] - ETA: 0s - loss: 1.7733 - accuracy: 0.1562\n",
      "Epoch 00179: val_loss improved from 1.67696 to 1.67050, saving model to saved_models\\audio_classification.hdf5\n",
      "13/13 [==============================] - 0s 3ms/step - loss: 1.6854 - accuracy: 0.3177 - val_loss: 1.6705 - val_accuracy: 0.3333\n",
      "Epoch 180/200\n",
      " 1/13 [=>............................] - ETA: 0s - loss: 1.7443 - accuracy: 0.2812\n",
      "Epoch 00180: val_loss did not improve from 1.67050\n",
      "13/13 [==============================] - 0s 3ms/step - loss: 1.7266 - accuracy: 0.2906 - val_loss: 1.6769 - val_accuracy: 0.3235\n",
      "Epoch 181/200\n",
      " 1/13 [=>............................] - ETA: 0s - loss: 1.6160 - accuracy: 0.4062\n",
      "Epoch 00181: val_loss did not improve from 1.67050\n",
      "13/13 [==============================] - 0s 3ms/step - loss: 1.7241 - accuracy: 0.2956 - val_loss: 1.6755 - val_accuracy: 0.3235\n",
      "Epoch 182/200\n",
      " 1/13 [=>............................] - ETA: 0s - loss: 1.6285 - accuracy: 0.3750\n",
      "Epoch 00182: val_loss did not improve from 1.67050\n",
      "13/13 [==============================] - 0s 3ms/step - loss: 1.7123 - accuracy: 0.3128 - val_loss: 1.6937 - val_accuracy: 0.3235\n",
      "Epoch 183/200\n",
      " 1/13 [=>............................] - ETA: 0s - loss: 1.9087 - accuracy: 0.1875\n",
      "Epoch 00183: val_loss did not improve from 1.67050\n",
      "13/13 [==============================] - 0s 3ms/step - loss: 1.7550 - accuracy: 0.2882 - val_loss: 1.6992 - val_accuracy: 0.3235\n",
      "Epoch 184/200\n",
      " 1/13 [=>............................] - ETA: 0s - loss: 1.9688 - accuracy: 0.2188\n",
      "Epoch 00184: val_loss did not improve from 1.67050\n",
      "13/13 [==============================] - 0s 3ms/step - loss: 1.7314 - accuracy: 0.3005 - val_loss: 1.6890 - val_accuracy: 0.3235\n",
      "Epoch 185/200\n",
      " 1/13 [=>............................] - ETA: 0s - loss: 1.6100 - accuracy: 0.4062\n",
      "Epoch 00185: val_loss improved from 1.67050 to 1.66750, saving model to saved_models\\audio_classification.hdf5\n",
      "13/13 [==============================] - 0s 3ms/step - loss: 1.7027 - accuracy: 0.3079 - val_loss: 1.6675 - val_accuracy: 0.3333\n",
      "Epoch 186/200\n",
      " 1/13 [=>............................] - ETA: 0s - loss: 1.8469 - accuracy: 0.1875\n",
      "Epoch 00186: val_loss did not improve from 1.66750\n",
      "13/13 [==============================] - 0s 3ms/step - loss: 1.7668 - accuracy: 0.3005 - val_loss: 1.6792 - val_accuracy: 0.3235\n",
      "Epoch 187/200\n",
      " 1/13 [=>............................] - ETA: 0s - loss: 1.6132 - accuracy: 0.3438\n",
      "Epoch 00187: val_loss did not improve from 1.66750\n",
      "13/13 [==============================] - 0s 3ms/step - loss: 1.7039 - accuracy: 0.3128 - val_loss: 1.6825 - val_accuracy: 0.3235\n",
      "Epoch 188/200\n",
      " 1/13 [=>............................] - ETA: 0s - loss: 1.7222 - accuracy: 0.2812\n",
      "Epoch 00188: val_loss did not improve from 1.66750\n",
      "13/13 [==============================] - 0s 3ms/step - loss: 1.7417 - accuracy: 0.3030 - val_loss: 1.6837 - val_accuracy: 0.3235\n",
      "Epoch 189/200\n",
      " 1/13 [=>............................] - ETA: 0s - loss: 1.9228 - accuracy: 0.1562\n",
      "Epoch 00189: val_loss did not improve from 1.66750\n",
      "13/13 [==============================] - 0s 3ms/step - loss: 1.7100 - accuracy: 0.3030 - val_loss: 1.6828 - val_accuracy: 0.3235\n",
      "Epoch 190/200\n",
      " 1/13 [=>............................] - ETA: 0s - loss: 1.6237 - accuracy: 0.3750\n",
      "Epoch 00190: val_loss did not improve from 1.66750\n",
      "13/13 [==============================] - 0s 2ms/step - loss: 1.6904 - accuracy: 0.3079 - val_loss: 1.6739 - val_accuracy: 0.3235\n",
      "Epoch 191/200\n",
      " 1/13 [=>............................] - ETA: 0s - loss: 1.5147 - accuracy: 0.4062\n",
      "Epoch 00191: val_loss improved from 1.66750 to 1.66225, saving model to saved_models\\audio_classification.hdf5\n",
      "13/13 [==============================] - 0s 2ms/step - loss: 1.6858 - accuracy: 0.3325 - val_loss: 1.6622 - val_accuracy: 0.3333\n",
      "Epoch 192/200\n",
      " 1/13 [=>............................] - ETA: 0s - loss: 1.6938 - accuracy: 0.3125\n",
      "Epoch 00192: val_loss improved from 1.66225 to 1.65824, saving model to saved_models\\audio_classification.hdf5\n",
      "13/13 [==============================] - 0s 2ms/step - loss: 1.6962 - accuracy: 0.3374 - val_loss: 1.6582 - val_accuracy: 0.3333\n",
      "Epoch 193/200\n",
      " 1/13 [=>............................] - ETA: 0s - loss: 1.7529 - accuracy: 0.2500\n",
      "Epoch 00193: val_loss did not improve from 1.65824\n",
      "13/13 [==============================] - 0s 3ms/step - loss: 1.7721 - accuracy: 0.3054 - val_loss: 1.6681 - val_accuracy: 0.3333\n",
      "Epoch 194/200\n",
      " 1/13 [=>............................] - ETA: 0s - loss: 1.6786 - accuracy: 0.2500\n",
      "Epoch 00194: val_loss did not improve from 1.65824\n",
      "13/13 [==============================] - 0s 3ms/step - loss: 1.7424 - accuracy: 0.2906 - val_loss: 1.6827 - val_accuracy: 0.3137\n",
      "Epoch 195/200\n",
      " 1/13 [=>............................] - ETA: 0s - loss: 1.8086 - accuracy: 0.3125\n",
      "Epoch 00195: val_loss did not improve from 1.65824\n",
      "13/13 [==============================] - 0s 3ms/step - loss: 1.7115 - accuracy: 0.3030 - val_loss: 1.6912 - val_accuracy: 0.3137\n",
      "Epoch 196/200\n",
      " 1/13 [=>............................] - ETA: 0s - loss: 1.7139 - accuracy: 0.3438\n",
      "Epoch 00196: val_loss did not improve from 1.65824\n",
      "13/13 [==============================] - 0s 3ms/step - loss: 1.6886 - accuracy: 0.3177 - val_loss: 1.6717 - val_accuracy: 0.3333\n",
      "Epoch 197/200\n",
      " 1/13 [=>............................] - ETA: 0s - loss: 1.6475 - accuracy: 0.3125\n",
      "Epoch 00197: val_loss did not improve from 1.65824\n",
      "13/13 [==============================] - 0s 3ms/step - loss: 1.7163 - accuracy: 0.3153 - val_loss: 1.6685 - val_accuracy: 0.3333\n",
      "Epoch 198/200\n",
      " 1/13 [=>............................] - ETA: 0s - loss: 1.7335 - accuracy: 0.3438\n",
      "Epoch 00198: val_loss improved from 1.65824 to 1.65697, saving model to saved_models\\audio_classification.hdf5\n",
      "13/13 [==============================] - 0s 3ms/step - loss: 1.7065 - accuracy: 0.3300 - val_loss: 1.6570 - val_accuracy: 0.3333\n",
      "Epoch 199/200\n",
      " 1/13 [=>............................] - ETA: 0s - loss: 2.1591 - accuracy: 0.4062\n",
      "Epoch 00199: val_loss did not improve from 1.65697\n",
      "13/13 [==============================] - 0s 3ms/step - loss: 1.7562 - accuracy: 0.3079 - val_loss: 1.6738 - val_accuracy: 0.3235\n",
      "Epoch 200/200\n",
      " 1/13 [=>............................] - ETA: 0s - loss: 1.7781 - accuracy: 0.1562\n",
      "Epoch 00200: val_loss did not improve from 1.65697\n",
      "13/13 [==============================] - 0s 3ms/step - loss: 1.7144 - accuracy: 0.3103 - val_loss: 1.6743 - val_accuracy: 0.3137\n",
      "Training completed in time:  0:00:13.347631\n"
     ]
    }
   ],
   "source": [
    "## Trianing my model\n",
    "from tensorflow.keras.callbacks import ModelCheckpoint\n",
    "from datetime import datetime \n",
    "\n",
    "num_epochs = 200\n",
    "num_batch_size = 32\n",
    "\n",
    "checkpointer = ModelCheckpoint(filepath='saved_models/audio_classification.hdf5', \n",
    "                               verbose=1, save_best_only=True)\n",
    "start = datetime.now()\n",
    "\n",
    "model.fit(X_train, y_train, batch_size=num_batch_size, epochs=num_epochs, validation_data=(X_test, y_test), callbacks=[checkpointer], verbose=1)\n",
    "\n",
    "\n",
    "duration = datetime.now() - start\n",
    "print(\"Training completed in time: \", duration)"
   ]
  },
  {
   "cell_type": "code",
   "execution_count": 33,
   "id": "2782abd2",
   "metadata": {},
   "outputs": [
    {
     "name": "stdout",
     "output_type": "stream",
     "text": [
      "31.372550129890442\n"
     ]
    }
   ],
   "source": [
    "test_accuracy=model.evaluate(X_test,y_test,verbose=0)\n",
    "print(test_accuracy[1]*100)"
   ]
  },
  {
   "cell_type": "code",
   "execution_count": 34,
   "id": "d26c2aea",
   "metadata": {},
   "outputs": [
    {
     "data": {
      "text/plain": [
       "array([-3.3424139e+02,  1.1067206e+02, -6.6630416e+00,  4.1293573e+00,\n",
       "       -1.1308483e+01, -1.0980946e+01, -1.5250362e+01,  1.9236928e+00,\n",
       "       -1.4809805e+01,  2.3802032e-01, -7.7702599e+00,  3.6280439e+00,\n",
       "       -5.6303148e+00, -6.6174512e+00, -7.5932426e+00, -5.3561540e+00,\n",
       "       -2.5885587e+00, -5.4182224e+00, -5.7990346e+00, -5.9867935e+00,\n",
       "       -1.1707730e+00, -2.6819625e+00, -3.1655645e-01,  2.5990316e-01,\n",
       "       -9.8999280e-01,  5.7512655e+00, -1.5841848e+00,  4.2109928e-01,\n",
       "        1.8964884e+00,  3.1722341e+00,  2.6149845e+00,  5.7462988e+00,\n",
       "        2.8583210e+00,  1.4889371e+00,  3.4892721e+00, -8.1730686e-02,\n",
       "       -3.9798820e-01,  8.0889344e-01, -1.4317317e+00, -6.2499964e-01],\n",
       "      dtype=float32)"
      ]
     },
     "execution_count": 34,
     "metadata": {},
     "output_type": "execute_result"
    }
   ],
   "source": [
    "X_test[1]"
   ]
  },
  {
   "cell_type": "code",
   "execution_count": 35,
   "id": "391922f0",
   "metadata": {},
   "outputs": [
    {
     "name": "stdout",
     "output_type": "stream",
     "text": [
      "WARNING:tensorflow:From <ipython-input-35-bc459dba29cd>:1: Sequential.predict_classes (from tensorflow.python.keras.engine.sequential) is deprecated and will be removed after 2021-01-01.\n",
      "Instructions for updating:\n",
      "Please use instead:* `np.argmax(model.predict(x), axis=-1)`,   if your model does multi-class classification   (e.g. if it uses a `softmax` last-layer activation).* `(model.predict(x) > 0.5).astype(\"int32\")`,   if your model does binary classification   (e.g. if it uses a `sigmoid` last-layer activation).\n"
     ]
    },
    {
     "data": {
      "text/plain": [
       "array([3, 3, 3, 3, 3, 3, 3, 3, 3, 3, 3, 3, 3, 3, 3, 3, 3, 3, 3, 3, 3, 3,\n",
       "       3, 3, 3, 3, 3, 3, 3, 3, 3, 3, 3, 3, 3, 3, 3, 3, 3, 3, 3, 3, 3, 3,\n",
       "       3, 3, 3, 3, 3, 3, 3, 3, 3, 3, 3, 3, 3, 3, 3, 3, 3, 3, 3, 3, 3, 3,\n",
       "       3, 3, 3, 3, 3, 3, 3, 3, 3, 3, 3, 3, 3, 3, 3, 3, 3, 3, 5, 3, 3, 5,\n",
       "       3, 3, 3, 3, 3, 3, 3, 3, 3, 3, 3, 3, 3, 3], dtype=int64)"
      ]
     },
     "execution_count": 35,
     "metadata": {},
     "output_type": "execute_result"
    }
   ],
   "source": [
    "model.predict_classes(X_test)"
   ]
  },
  {
   "cell_type": "code",
   "execution_count": 36,
   "id": "46970d4d",
   "metadata": {},
   "outputs": [],
   "source": [
    "# Testing Some Test Audio Data"
   ]
  },
  {
   "cell_type": "code",
   "execution_count": 37,
   "id": "32a3adb6",
   "metadata": {},
   "outputs": [
    {
     "name": "stdout",
     "output_type": "stream",
     "text": [
      "[-4.76481781e+02  9.86589432e+01  3.97883072e+01  2.61166458e+01\n",
      "  7.30333996e+00  6.95043468e+00 -1.10349741e+01 -7.64988184e+00\n",
      " -1.37772455e+01 -1.02682123e+01 -7.88985634e+00 -3.89755130e+00\n",
      " -1.29185200e+01 -2.71842241e-01 -1.62036247e+01 -1.23942814e+01\n",
      "  3.46540880e+00 -5.26274061e+00 -8.81423187e+00 -6.99449825e+00\n",
      " -5.41515017e+00 -7.94874072e-01 -4.40009165e+00 -1.94633842e+00\n",
      " -1.54539597e+00 -4.07005787e+00  2.80071235e+00  8.47915232e-01\n",
      " -1.71305466e+00  2.48699951e+00  1.82406878e+00 -3.58970785e+00\n",
      "  6.77728713e-01  7.78714478e-01  1.26747656e+00  1.19188082e+00\n",
      "  1.57236207e+00  2.39441228e+00  6.22204542e-01 -1.31818235e-01]\n",
      "[[-4.76481781e+02  9.86589432e+01  3.97883072e+01  2.61166458e+01\n",
      "   7.30333996e+00  6.95043468e+00 -1.10349741e+01 -7.64988184e+00\n",
      "  -1.37772455e+01 -1.02682123e+01 -7.88985634e+00 -3.89755130e+00\n",
      "  -1.29185200e+01 -2.71842241e-01 -1.62036247e+01 -1.23942814e+01\n",
      "   3.46540880e+00 -5.26274061e+00 -8.81423187e+00 -6.99449825e+00\n",
      "  -5.41515017e+00 -7.94874072e-01 -4.40009165e+00 -1.94633842e+00\n",
      "  -1.54539597e+00 -4.07005787e+00  2.80071235e+00  8.47915232e-01\n",
      "  -1.71305466e+00  2.48699951e+00  1.82406878e+00 -3.58970785e+00\n",
      "   6.77728713e-01  7.78714478e-01  1.26747656e+00  1.19188082e+00\n",
      "   1.57236207e+00  2.39441228e+00  6.22204542e-01 -1.31818235e-01]]\n",
      "(1, 40)\n",
      "[3]\n"
     ]
    },
    {
     "data": {
      "text/plain": [
       "array([85])"
      ]
     },
     "execution_count": 37,
     "metadata": {},
     "output_type": "execute_result"
    }
   ],
   "source": [
    "filename=\"audio/rec - Copy/S74_P8_F.wav\"\n",
    "audio, sample_rate = librosa.load(filename, res_type='kaiser_fast') \n",
    "mfccs_features = librosa.feature.mfcc(y=audio, sr=sample_rate, n_mfcc=40)\n",
    "mfccs_scaled_features = np.mean(mfccs_features.T,axis=0)\n",
    "\n",
    "print(mfccs_scaled_features)\n",
    "mfccs_scaled_features=mfccs_scaled_features.reshape(1,-1)\n",
    "print(mfccs_scaled_features)\n",
    "print(mfccs_scaled_features.shape)\n",
    "predicted_label=model.predict_classes(mfccs_scaled_features)\n",
    "print(predicted_label)\n",
    "prediction_class = labelencoder.inverse_transform(predicted_label) \n",
    "prediction_class"
   ]
  },
  {
   "cell_type": "code",
   "execution_count": 38,
   "id": "cedad7eb",
   "metadata": {},
   "outputs": [
    {
     "name": "stdout",
     "output_type": "stream",
     "text": [
      "[85]\n"
     ]
    }
   ],
   "source": [
    "print(prediction_class)"
   ]
  },
  {
   "cell_type": "code",
   "execution_count": null,
   "id": "ad2d55f4",
   "metadata": {},
   "outputs": [],
   "source": []
  }
 ],
 "metadata": {
  "kernelspec": {
   "display_name": "Python 3",
   "language": "python",
   "name": "python3"
  },
  "language_info": {
   "codemirror_mode": {
    "name": "ipython",
    "version": 3
   },
   "file_extension": ".py",
   "mimetype": "text/x-python",
   "name": "python",
   "nbconvert_exporter": "python",
   "pygments_lexer": "ipython3",
   "version": "3.8.10"
  }
 },
 "nbformat": 4,
 "nbformat_minor": 5
}
